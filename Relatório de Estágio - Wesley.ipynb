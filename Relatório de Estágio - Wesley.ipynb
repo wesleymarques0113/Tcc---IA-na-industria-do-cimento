{
 "cells": [
  {
   "cell_type": "markdown",
   "id": "c6866018",
   "metadata": {},
   "source": [
    "# Contexto"
   ]
  },
  {
   "cell_type": "markdown",
   "id": "644ceaf8",
   "metadata": {},
   "source": [
    "Na produção de cimento, o principal parâmetro de qualidade é a <b>resistência do concreto a compressão.</b>\n",
    "<br>\n",
    "Essa análise de qualidade leva em torno de <b>28 dias</b>  desde que o cimento é produzido, pois é necessário medir a compressão do concreto em diferentes idades. Essa análise é onerosa e elava muito o ciclo de produção do cimento. Portanto, Indústrias cimenteiras que não possuem um rigoroso padrão de qualidade e não são capazes de prever a resistência à compressão do cimento perdem bastante a competitividade no mercado.\n",
    "<br>\n",
    "Além disso, a resistência à compressão do concreto é um parâmetro importantíssimo para quem deseja usá-lo em obras , dessa forma, conhecer essa medida para diversas composições do concreto é muito útil.\n",
    "\n"
   ]
  },
  {
   "cell_type": "markdown",
   "id": "89bc43c1",
   "metadata": {},
   "source": [
    " Sendo assim, a variável alvo do modelo a ser construido é a <b>resistência de compressão do concreto (em MPA)</b> e as variáveis de entrada do são:\n",
    "- clinquer (medido em kg/m³)\n",
    "- escoria (medido em kg/m³)\n",
    "- cinzas (medido em kg/m³)\n",
    "- agua (medido em kg/m³)\n",
    "- superplastificante (medido em kg/m³)\n",
    "- agragado grosso (medido em kg/m³)\n",
    "- agregado fino (medido em kg/m³)\n",
    "- idade (medido em dias 0 ~ 365 dias)"
   ]
  },
  {
   "cell_type": "markdown",
   "id": "5494fc62",
   "metadata": {},
   "source": [
    "<h3> A imagem abaixo mostra um exemplo de teste de compressão do concreto </h3>"
   ]
  },
  {
   "attachments": {
    "u.jpg": {
     "image/jpeg": "[encoded data removed]"
    }
   },
   "cell_type": "markdown",
   "id": "d4868c0d",
   "metadata": {},
   "source": [
    "![u.jpg](attachment:u.jpg)"
   ]
  },
  {
   "cell_type": "markdown",
   "id": "7f2faf58",
   "metadata": {},
   "source": [
    "<h1>Lets Code!</h1>"
   ]
  },
  {
   "cell_type": "markdown",
   "id": "3fb34755",
   "metadata": {},
   "source": [
    "## 1.Instalando as bibliotecas"
   ]
  },
  {
   "cell_type": "code",
   "execution_count": 1,
   "id": "b189c84b",
   "metadata": {},
   "outputs": [],
   "source": [
    "import numpy as np\n",
    "import pandas as pd\n",
    "import matplotlib.pyplot as plt\n",
    "%matplotlib inline\n",
    "\n",
    "import seaborn as sns\n",
    "import itertools\n",
    "\n",
    "import time\n",
    "\n",
    "# used to supress display of warnings\n",
    "import warnings\n",
    "# ols library\n",
    "import statsmodels.api as sm\n",
    "import statsmodels.formula.api as smf\n",
    "\n",
    "import missingno as mno\n",
    "from sklearn.cluster import DBSCAN\n",
    "from sklearn.cluster import OPTICS\n",
    "\n",
    "# import zscore for scaling the data\n",
    "from scipy.stats import zscore\n",
    "from sklearn.preprocessing import StandardScaler, MinMaxScaler, PowerTransformer, RobustScaler\n",
    "\n",
    "from sklearn.metrics import silhouette_score\n",
    "from sklearn.cluster import KMeans\n",
    "# pre-processing methods\n",
    "from sklearn.model_selection import train_test_split\n",
    "from sklearn.preprocessing import PolynomialFeatures\n",
    "\n",
    "from sklearn.compose import TransformedTargetRegressor\n",
    "\n",
    "# the regression models \n",
    "from sklearn.linear_model import LinearRegression\n",
    "from sklearn.linear_model import Ridge,Lasso\n",
    "from sklearn.neighbors import KNeighborsRegressor\n",
    "from sklearn.svm import SVR\n",
    "from sklearn.tree import DecisionTreeRegressor\n",
    "from sklearn.ensemble import BaggingRegressor\n",
    "from sklearn.ensemble import ExtraTreesRegressor\n",
    "from sklearn.ensemble import RandomForestRegressor\n",
    "from sklearn.ensemble import AdaBoostRegressor\n",
    "from sklearn.ensemble import GradientBoostingRegressor\n",
    "from xgboost import XGBRegressor\n",
    "from catboost import CatBoostRegressor\n",
    "from lightgbm import LGBMRegressor\n",
    "\n",
    "# cross-validation methods\n",
    "from sklearn.model_selection import KFold\n",
    "from sklearn.model_selection import GridSearchCV\n",
    "from sklearn.model_selection import RandomizedSearchCV\n",
    "\n",
    "from sklearn import metrics\n",
    "\n",
    "from sklearn.pipeline import Pipeline\n",
    "\n",
    "# feature-selection methods\n",
    "from sklearn.feature_selection import SelectFromModel\n",
    "\n",
    "# bootstrap sampling\n",
    "from sklearn.utils import resample"
   ]
  },
  {
   "cell_type": "markdown",
   "id": "35ff47a6",
   "metadata": {},
   "source": [
    "### 1.1 Definindo configurações padrões"
   ]
  },
  {
   "cell_type": "code",
   "execution_count": 2,
   "id": "44a07073",
   "metadata": {},
   "outputs": [],
   "source": [
    "# suppress display of warnings\n",
    "warnings.filterwarnings('ignore')\n",
    "\n",
    "# display all dataframe columns\n",
    "pd.options.display.max_columns = None\n",
    "\n",
    "# to set the limit to 3 decimals\n",
    "pd.options.display.float_format = '{:.7f}'.format\n",
    "\n",
    "# display all dataframe rows\n",
    "pd.options.display.max_rows = None"
   ]
  },
  {
   "cell_type": "markdown",
   "id": "0f88dbd0",
   "metadata": {},
   "source": [
    "## 2.Importando e conhecendo os dados"
   ]
  },
  {
   "cell_type": "code",
   "execution_count": 3,
   "id": "d53ce3f8",
   "metadata": {},
   "outputs": [],
   "source": [
    "concrete_df = pd.read_csv(\"C:/Users/wesley.marques/Documents/Relatório de Estágio - Wesley/archive/concrete.csv\")"
   ]
  },
  {
   "cell_type": "code",
   "execution_count": 4,
   "id": "3f1ab64f",
   "metadata": {},
   "outputs": [],
   "source": [
    "concrete_df = concrete_df.rename(columns={'cement':'clinquer', 'slag': 'escoria', 'ash':'cinzas',\n",
    "                            'water':'agua','superplastic':'superplastificante',\n",
    "                            'coarseagg':'agragado grosso','fineagg':'agregado fino','age':'idade','strength':'resistencia'})"
   ]
  },
  {
   "cell_type": "markdown",
   "id": "e270c029",
   "metadata": {},
   "source": [
    "### 2.1 Conhecendo os dados"
   ]
  },
  {
   "cell_type": "code",
   "execution_count": 5,
   "id": "ed7ea595",
   "metadata": {},
   "outputs": [
    {
     "data": {
      "text/html": [
       "<div>\n",
       "<style scoped>\n",
       "    .dataframe tbody tr th:only-of-type {\n",
       "        vertical-align: middle;\n",
       "    }\n",
       "\n",
       "    .dataframe tbody tr th {\n",
       "        vertical-align: top;\n",
       "    }\n",
       "\n",
       "    .dataframe thead th {\n",
       "        text-align: right;\n",
       "    }\n",
       "</style>\n",
       "<table border=\"1\" class=\"dataframe\">\n",
       "  <thead>\n",
       "    <tr style=\"text-align: right;\">\n",
       "      <th></th>\n",
       "      <th>clinquer</th>\n",
       "      <th>escoria</th>\n",
       "      <th>cinzas</th>\n",
       "      <th>agua</th>\n",
       "      <th>superplastificante</th>\n",
       "      <th>agragado grosso</th>\n",
       "      <th>agregado fino</th>\n",
       "      <th>idade</th>\n",
       "      <th>resistencia</th>\n",
       "    </tr>\n",
       "  </thead>\n",
       "  <tbody>\n",
       "    <tr>\n",
       "      <th>0</th>\n",
       "      <td>141.3000000</td>\n",
       "      <td>212.0000000</td>\n",
       "      <td>0.0000000</td>\n",
       "      <td>203.5000000</td>\n",
       "      <td>0.0000000</td>\n",
       "      <td>971.8000000</td>\n",
       "      <td>748.5000000</td>\n",
       "      <td>28</td>\n",
       "      <td>29.8900000</td>\n",
       "    </tr>\n",
       "    <tr>\n",
       "      <th>1</th>\n",
       "      <td>168.9000000</td>\n",
       "      <td>42.2000000</td>\n",
       "      <td>124.3000000</td>\n",
       "      <td>158.3000000</td>\n",
       "      <td>10.8000000</td>\n",
       "      <td>1080.8000000</td>\n",
       "      <td>796.2000000</td>\n",
       "      <td>14</td>\n",
       "      <td>23.5100000</td>\n",
       "    </tr>\n",
       "    <tr>\n",
       "      <th>2</th>\n",
       "      <td>250.0000000</td>\n",
       "      <td>0.0000000</td>\n",
       "      <td>95.7000000</td>\n",
       "      <td>187.4000000</td>\n",
       "      <td>5.5000000</td>\n",
       "      <td>956.9000000</td>\n",
       "      <td>861.2000000</td>\n",
       "      <td>28</td>\n",
       "      <td>29.2200000</td>\n",
       "    </tr>\n",
       "    <tr>\n",
       "      <th>3</th>\n",
       "      <td>266.0000000</td>\n",
       "      <td>114.0000000</td>\n",
       "      <td>0.0000000</td>\n",
       "      <td>228.0000000</td>\n",
       "      <td>0.0000000</td>\n",
       "      <td>932.0000000</td>\n",
       "      <td>670.0000000</td>\n",
       "      <td>28</td>\n",
       "      <td>45.8500000</td>\n",
       "    </tr>\n",
       "    <tr>\n",
       "      <th>4</th>\n",
       "      <td>154.8000000</td>\n",
       "      <td>183.4000000</td>\n",
       "      <td>0.0000000</td>\n",
       "      <td>193.3000000</td>\n",
       "      <td>9.1000000</td>\n",
       "      <td>1047.4000000</td>\n",
       "      <td>696.7000000</td>\n",
       "      <td>28</td>\n",
       "      <td>18.2900000</td>\n",
       "    </tr>\n",
       "  </tbody>\n",
       "</table>\n",
       "</div>"
      ],
      "text/plain": [
       "     clinquer     escoria      cinzas        agua  superplastificante  \\\n",
       "0 141.3000000 212.0000000   0.0000000 203.5000000           0.0000000   \n",
       "1 168.9000000  42.2000000 124.3000000 158.3000000          10.8000000   \n",
       "2 250.0000000   0.0000000  95.7000000 187.4000000           5.5000000   \n",
       "3 266.0000000 114.0000000   0.0000000 228.0000000           0.0000000   \n",
       "4 154.8000000 183.4000000   0.0000000 193.3000000           9.1000000   \n",
       "\n",
       "   agragado grosso  agregado fino  idade  resistencia  \n",
       "0      971.8000000    748.5000000     28   29.8900000  \n",
       "1     1080.8000000    796.2000000     14   23.5100000  \n",
       "2      956.9000000    861.2000000     28   29.2200000  \n",
       "3      932.0000000    670.0000000     28   45.8500000  \n",
       "4     1047.4000000    696.7000000     28   18.2900000  "
      ]
     },
     "execution_count": 5,
     "metadata": {},
     "output_type": "execute_result"
    }
   ],
   "source": [
    "concrete_df.head()"
   ]
  },
  {
   "cell_type": "code",
   "execution_count": 6,
   "id": "a03f0f66",
   "metadata": {},
   "outputs": [
    {
     "data": {
      "text/html": [
       "<div>\n",
       "<style scoped>\n",
       "    .dataframe tbody tr th:only-of-type {\n",
       "        vertical-align: middle;\n",
       "    }\n",
       "\n",
       "    .dataframe tbody tr th {\n",
       "        vertical-align: top;\n",
       "    }\n",
       "\n",
       "    .dataframe thead th {\n",
       "        text-align: right;\n",
       "    }\n",
       "</style>\n",
       "<table border=\"1\" class=\"dataframe\">\n",
       "  <thead>\n",
       "    <tr style=\"text-align: right;\">\n",
       "      <th></th>\n",
       "      <th>clinquer</th>\n",
       "      <th>escoria</th>\n",
       "      <th>cinzas</th>\n",
       "      <th>agua</th>\n",
       "      <th>superplastificante</th>\n",
       "      <th>agragado grosso</th>\n",
       "      <th>agregado fino</th>\n",
       "      <th>idade</th>\n",
       "      <th>resistencia</th>\n",
       "    </tr>\n",
       "  </thead>\n",
       "  <tbody>\n",
       "    <tr>\n",
       "      <th>count</th>\n",
       "      <td>1030.0000000</td>\n",
       "      <td>1030.0000000</td>\n",
       "      <td>1030.0000000</td>\n",
       "      <td>1030.0000000</td>\n",
       "      <td>1030.0000000</td>\n",
       "      <td>1030.0000000</td>\n",
       "      <td>1030.0000000</td>\n",
       "      <td>1030.0000000</td>\n",
       "      <td>1030.0000000</td>\n",
       "    </tr>\n",
       "    <tr>\n",
       "      <th>mean</th>\n",
       "      <td>281.1678641</td>\n",
       "      <td>73.8958252</td>\n",
       "      <td>54.1883495</td>\n",
       "      <td>181.5672816</td>\n",
       "      <td>6.2046602</td>\n",
       "      <td>972.9189320</td>\n",
       "      <td>773.5804854</td>\n",
       "      <td>45.6621359</td>\n",
       "      <td>35.8179612</td>\n",
       "    </tr>\n",
       "    <tr>\n",
       "      <th>std</th>\n",
       "      <td>104.5063645</td>\n",
       "      <td>86.2793417</td>\n",
       "      <td>63.9970042</td>\n",
       "      <td>21.3542186</td>\n",
       "      <td>5.9738414</td>\n",
       "      <td>77.7539540</td>\n",
       "      <td>80.1759801</td>\n",
       "      <td>63.1699116</td>\n",
       "      <td>16.7057420</td>\n",
       "    </tr>\n",
       "    <tr>\n",
       "      <th>min</th>\n",
       "      <td>102.0000000</td>\n",
       "      <td>0.0000000</td>\n",
       "      <td>0.0000000</td>\n",
       "      <td>121.8000000</td>\n",
       "      <td>0.0000000</td>\n",
       "      <td>801.0000000</td>\n",
       "      <td>594.0000000</td>\n",
       "      <td>1.0000000</td>\n",
       "      <td>2.3300000</td>\n",
       "    </tr>\n",
       "    <tr>\n",
       "      <th>25%</th>\n",
       "      <td>192.3750000</td>\n",
       "      <td>0.0000000</td>\n",
       "      <td>0.0000000</td>\n",
       "      <td>164.9000000</td>\n",
       "      <td>0.0000000</td>\n",
       "      <td>932.0000000</td>\n",
       "      <td>730.9500000</td>\n",
       "      <td>7.0000000</td>\n",
       "      <td>23.7100000</td>\n",
       "    </tr>\n",
       "    <tr>\n",
       "      <th>50%</th>\n",
       "      <td>272.9000000</td>\n",
       "      <td>22.0000000</td>\n",
       "      <td>0.0000000</td>\n",
       "      <td>185.0000000</td>\n",
       "      <td>6.4000000</td>\n",
       "      <td>968.0000000</td>\n",
       "      <td>779.5000000</td>\n",
       "      <td>28.0000000</td>\n",
       "      <td>34.4450000</td>\n",
       "    </tr>\n",
       "    <tr>\n",
       "      <th>75%</th>\n",
       "      <td>350.0000000</td>\n",
       "      <td>142.9500000</td>\n",
       "      <td>118.3000000</td>\n",
       "      <td>192.0000000</td>\n",
       "      <td>10.2000000</td>\n",
       "      <td>1029.4000000</td>\n",
       "      <td>824.0000000</td>\n",
       "      <td>56.0000000</td>\n",
       "      <td>46.1350000</td>\n",
       "    </tr>\n",
       "    <tr>\n",
       "      <th>max</th>\n",
       "      <td>540.0000000</td>\n",
       "      <td>359.4000000</td>\n",
       "      <td>200.1000000</td>\n",
       "      <td>247.0000000</td>\n",
       "      <td>32.2000000</td>\n",
       "      <td>1145.0000000</td>\n",
       "      <td>992.6000000</td>\n",
       "      <td>365.0000000</td>\n",
       "      <td>82.6000000</td>\n",
       "    </tr>\n",
       "  </tbody>\n",
       "</table>\n",
       "</div>"
      ],
      "text/plain": [
       "          clinquer      escoria       cinzas         agua  superplastificante  \\\n",
       "count 1030.0000000 1030.0000000 1030.0000000 1030.0000000        1030.0000000   \n",
       "mean   281.1678641   73.8958252   54.1883495  181.5672816           6.2046602   \n",
       "std    104.5063645   86.2793417   63.9970042   21.3542186           5.9738414   \n",
       "min    102.0000000    0.0000000    0.0000000  121.8000000           0.0000000   \n",
       "25%    192.3750000    0.0000000    0.0000000  164.9000000           0.0000000   \n",
       "50%    272.9000000   22.0000000    0.0000000  185.0000000           6.4000000   \n",
       "75%    350.0000000  142.9500000  118.3000000  192.0000000          10.2000000   \n",
       "max    540.0000000  359.4000000  200.1000000  247.0000000          32.2000000   \n",
       "\n",
       "       agragado grosso  agregado fino        idade  resistencia  \n",
       "count     1030.0000000   1030.0000000 1030.0000000 1030.0000000  \n",
       "mean       972.9189320    773.5804854   45.6621359   35.8179612  \n",
       "std         77.7539540     80.1759801   63.1699116   16.7057420  \n",
       "min        801.0000000    594.0000000    1.0000000    2.3300000  \n",
       "25%        932.0000000    730.9500000    7.0000000   23.7100000  \n",
       "50%        968.0000000    779.5000000   28.0000000   34.4450000  \n",
       "75%       1029.4000000    824.0000000   56.0000000   46.1350000  \n",
       "max       1145.0000000    992.6000000  365.0000000   82.6000000  "
      ]
     },
     "execution_count": 6,
     "metadata": {},
     "output_type": "execute_result"
    }
   ],
   "source": [
    "concrete_df.describe()"
   ]
  },
  {
   "cell_type": "markdown",
   "id": "2ec9a071",
   "metadata": {},
   "source": [
    "### 2.2 Tamanho do DataSet"
   ]
  },
  {
   "cell_type": "code",
   "execution_count": 7,
   "id": "3b9d1798",
   "metadata": {},
   "outputs": [
    {
     "data": {
      "text/plain": [
       "(1030, 9)"
      ]
     },
     "execution_count": 7,
     "metadata": {},
     "output_type": "execute_result"
    }
   ],
   "source": [
    "concrete_df.shape"
   ]
  },
  {
   "cell_type": "code",
   "execution_count": 8,
   "id": "70bbb66f",
   "metadata": {},
   "outputs": [
    {
     "name": "stdout",
     "output_type": "stream",
     "text": [
      "Número de linhas = 1030 e número de colunas = 9 na base de dados\n"
     ]
    }
   ],
   "source": [
    "print(\"Número de linhas = {0} e número de colunas = {1} na base de dados\".format(concrete_df.shape[0],concrete_df.shape[1]))"
   ]
  },
  {
   "cell_type": "markdown",
   "id": "8949eaa4",
   "metadata": {},
   "source": [
    "### 2.3 Tipo de dados"
   ]
  },
  {
   "cell_type": "markdown",
   "id": "40c4f39f",
   "metadata": {},
   "source": [
    "Como mostrado abaixo, a maioria dos dados são <i>float64</i>, ou seja são números reais, exceto a idade do concreto que é um número inteiro"
   ]
  },
  {
   "cell_type": "code",
   "execution_count": 9,
   "id": "f4f3ce34",
   "metadata": {},
   "outputs": [
    {
     "data": {
      "text/plain": [
       "clinquer              float64\n",
       "escoria               float64\n",
       "cinzas                float64\n",
       "agua                  float64\n",
       "superplastificante    float64\n",
       "agragado grosso       float64\n",
       "agregado fino         float64\n",
       "idade                   int64\n",
       "resistencia           float64\n",
       "dtype: object"
      ]
     },
     "execution_count": 9,
     "metadata": {},
     "output_type": "execute_result"
    }
   ],
   "source": [
    "concrete_df.dtypes"
   ]
  },
  {
   "cell_type": "markdown",
   "id": "ab90d83f",
   "metadata": {},
   "source": [
    "## 3.Limpeza dos dados"
   ]
  },
  {
   "cell_type": "markdown",
   "id": "d420a724",
   "metadata": {},
   "source": [
    "### 3.1 Checando se há valores duplicados"
   ]
  },
  {
   "cell_type": "code",
   "execution_count": 10,
   "id": "38601867",
   "metadata": {},
   "outputs": [
    {
     "data": {
      "text/plain": [
       "25"
      ]
     },
     "execution_count": 10,
     "metadata": {},
     "output_type": "execute_result"
    }
   ],
   "source": [
    "concrete_df.duplicated().sum()"
   ]
  },
  {
   "cell_type": "code",
   "execution_count": 11,
   "id": "2dba550f",
   "metadata": {},
   "outputs": [
    {
     "data": {
      "text/html": [
       "<div>\n",
       "<style scoped>\n",
       "    .dataframe tbody tr th:only-of-type {\n",
       "        vertical-align: middle;\n",
       "    }\n",
       "\n",
       "    .dataframe tbody tr th {\n",
       "        vertical-align: top;\n",
       "    }\n",
       "\n",
       "    .dataframe thead th {\n",
       "        text-align: right;\n",
       "    }\n",
       "</style>\n",
       "<table border=\"1\" class=\"dataframe\">\n",
       "  <thead>\n",
       "    <tr style=\"text-align: right;\">\n",
       "      <th></th>\n",
       "      <th>clinquer</th>\n",
       "      <th>escoria</th>\n",
       "      <th>cinzas</th>\n",
       "      <th>agua</th>\n",
       "      <th>superplastificante</th>\n",
       "      <th>agragado grosso</th>\n",
       "      <th>agregado fino</th>\n",
       "      <th>idade</th>\n",
       "      <th>resistencia</th>\n",
       "    </tr>\n",
       "  </thead>\n",
       "  <tbody>\n",
       "    <tr>\n",
       "      <th>278</th>\n",
       "      <td>425.0000000</td>\n",
       "      <td>106.3000000</td>\n",
       "      <td>0.0000000</td>\n",
       "      <td>153.5000000</td>\n",
       "      <td>16.5000000</td>\n",
       "      <td>852.1000000</td>\n",
       "      <td>887.1000000</td>\n",
       "      <td>3</td>\n",
       "      <td>33.4000000</td>\n",
       "    </tr>\n",
       "    <tr>\n",
       "      <th>298</th>\n",
       "      <td>425.0000000</td>\n",
       "      <td>106.3000000</td>\n",
       "      <td>0.0000000</td>\n",
       "      <td>153.5000000</td>\n",
       "      <td>16.5000000</td>\n",
       "      <td>852.1000000</td>\n",
       "      <td>887.1000000</td>\n",
       "      <td>3</td>\n",
       "      <td>33.4000000</td>\n",
       "    </tr>\n",
       "    <tr>\n",
       "      <th>400</th>\n",
       "      <td>362.6000000</td>\n",
       "      <td>189.0000000</td>\n",
       "      <td>0.0000000</td>\n",
       "      <td>164.9000000</td>\n",
       "      <td>11.6000000</td>\n",
       "      <td>944.7000000</td>\n",
       "      <td>755.8000000</td>\n",
       "      <td>3</td>\n",
       "      <td>35.3000000</td>\n",
       "    </tr>\n",
       "    <tr>\n",
       "      <th>420</th>\n",
       "      <td>362.6000000</td>\n",
       "      <td>189.0000000</td>\n",
       "      <td>0.0000000</td>\n",
       "      <td>164.9000000</td>\n",
       "      <td>11.6000000</td>\n",
       "      <td>944.7000000</td>\n",
       "      <td>755.8000000</td>\n",
       "      <td>3</td>\n",
       "      <td>35.3000000</td>\n",
       "    </tr>\n",
       "    <tr>\n",
       "      <th>463</th>\n",
       "      <td>362.6000000</td>\n",
       "      <td>189.0000000</td>\n",
       "      <td>0.0000000</td>\n",
       "      <td>164.9000000</td>\n",
       "      <td>11.6000000</td>\n",
       "      <td>944.7000000</td>\n",
       "      <td>755.8000000</td>\n",
       "      <td>56</td>\n",
       "      <td>77.3000000</td>\n",
       "    </tr>\n",
       "    <tr>\n",
       "      <th>468</th>\n",
       "      <td>252.0000000</td>\n",
       "      <td>0.0000000</td>\n",
       "      <td>0.0000000</td>\n",
       "      <td>185.0000000</td>\n",
       "      <td>0.0000000</td>\n",
       "      <td>1111.0000000</td>\n",
       "      <td>784.0000000</td>\n",
       "      <td>28</td>\n",
       "      <td>19.6900000</td>\n",
       "    </tr>\n",
       "    <tr>\n",
       "      <th>482</th>\n",
       "      <td>425.0000000</td>\n",
       "      <td>106.3000000</td>\n",
       "      <td>0.0000000</td>\n",
       "      <td>153.5000000</td>\n",
       "      <td>16.5000000</td>\n",
       "      <td>852.1000000</td>\n",
       "      <td>887.1000000</td>\n",
       "      <td>91</td>\n",
       "      <td>65.2000000</td>\n",
       "    </tr>\n",
       "    <tr>\n",
       "      <th>493</th>\n",
       "      <td>362.6000000</td>\n",
       "      <td>189.0000000</td>\n",
       "      <td>0.0000000</td>\n",
       "      <td>164.9000000</td>\n",
       "      <td>11.6000000</td>\n",
       "      <td>944.7000000</td>\n",
       "      <td>755.8000000</td>\n",
       "      <td>91</td>\n",
       "      <td>79.3000000</td>\n",
       "    </tr>\n",
       "    <tr>\n",
       "      <th>517</th>\n",
       "      <td>425.0000000</td>\n",
       "      <td>106.3000000</td>\n",
       "      <td>0.0000000</td>\n",
       "      <td>153.5000000</td>\n",
       "      <td>16.5000000</td>\n",
       "      <td>852.1000000</td>\n",
       "      <td>887.1000000</td>\n",
       "      <td>56</td>\n",
       "      <td>64.3000000</td>\n",
       "    </tr>\n",
       "    <tr>\n",
       "      <th>525</th>\n",
       "      <td>362.6000000</td>\n",
       "      <td>189.0000000</td>\n",
       "      <td>0.0000000</td>\n",
       "      <td>164.9000000</td>\n",
       "      <td>11.6000000</td>\n",
       "      <td>944.7000000</td>\n",
       "      <td>755.8000000</td>\n",
       "      <td>28</td>\n",
       "      <td>71.3000000</td>\n",
       "    </tr>\n",
       "    <tr>\n",
       "      <th>527</th>\n",
       "      <td>425.0000000</td>\n",
       "      <td>106.3000000</td>\n",
       "      <td>0.0000000</td>\n",
       "      <td>153.5000000</td>\n",
       "      <td>16.5000000</td>\n",
       "      <td>852.1000000</td>\n",
       "      <td>887.1000000</td>\n",
       "      <td>91</td>\n",
       "      <td>65.2000000</td>\n",
       "    </tr>\n",
       "    <tr>\n",
       "      <th>576</th>\n",
       "      <td>362.6000000</td>\n",
       "      <td>189.0000000</td>\n",
       "      <td>0.0000000</td>\n",
       "      <td>164.9000000</td>\n",
       "      <td>11.6000000</td>\n",
       "      <td>944.7000000</td>\n",
       "      <td>755.8000000</td>\n",
       "      <td>7</td>\n",
       "      <td>55.9000000</td>\n",
       "    </tr>\n",
       "    <tr>\n",
       "      <th>577</th>\n",
       "      <td>425.0000000</td>\n",
       "      <td>106.3000000</td>\n",
       "      <td>0.0000000</td>\n",
       "      <td>153.5000000</td>\n",
       "      <td>16.5000000</td>\n",
       "      <td>852.1000000</td>\n",
       "      <td>887.1000000</td>\n",
       "      <td>28</td>\n",
       "      <td>60.2900000</td>\n",
       "    </tr>\n",
       "    <tr>\n",
       "      <th>604</th>\n",
       "      <td>362.6000000</td>\n",
       "      <td>189.0000000</td>\n",
       "      <td>0.0000000</td>\n",
       "      <td>164.9000000</td>\n",
       "      <td>11.6000000</td>\n",
       "      <td>944.7000000</td>\n",
       "      <td>755.8000000</td>\n",
       "      <td>56</td>\n",
       "      <td>77.3000000</td>\n",
       "    </tr>\n",
       "    <tr>\n",
       "      <th>733</th>\n",
       "      <td>362.6000000</td>\n",
       "      <td>189.0000000</td>\n",
       "      <td>0.0000000</td>\n",
       "      <td>164.9000000</td>\n",
       "      <td>11.6000000</td>\n",
       "      <td>944.7000000</td>\n",
       "      <td>755.8000000</td>\n",
       "      <td>91</td>\n",
       "      <td>79.3000000</td>\n",
       "    </tr>\n",
       "    <tr>\n",
       "      <th>738</th>\n",
       "      <td>362.6000000</td>\n",
       "      <td>189.0000000</td>\n",
       "      <td>0.0000000</td>\n",
       "      <td>164.9000000</td>\n",
       "      <td>11.6000000</td>\n",
       "      <td>944.7000000</td>\n",
       "      <td>755.8000000</td>\n",
       "      <td>28</td>\n",
       "      <td>71.3000000</td>\n",
       "    </tr>\n",
       "    <tr>\n",
       "      <th>766</th>\n",
       "      <td>362.6000000</td>\n",
       "      <td>189.0000000</td>\n",
       "      <td>0.0000000</td>\n",
       "      <td>164.9000000</td>\n",
       "      <td>11.6000000</td>\n",
       "      <td>944.7000000</td>\n",
       "      <td>755.8000000</td>\n",
       "      <td>91</td>\n",
       "      <td>79.3000000</td>\n",
       "    </tr>\n",
       "    <tr>\n",
       "      <th>830</th>\n",
       "      <td>425.0000000</td>\n",
       "      <td>106.3000000</td>\n",
       "      <td>0.0000000</td>\n",
       "      <td>153.5000000</td>\n",
       "      <td>16.5000000</td>\n",
       "      <td>852.1000000</td>\n",
       "      <td>887.1000000</td>\n",
       "      <td>7</td>\n",
       "      <td>49.2000000</td>\n",
       "    </tr>\n",
       "    <tr>\n",
       "      <th>880</th>\n",
       "      <td>425.0000000</td>\n",
       "      <td>106.3000000</td>\n",
       "      <td>0.0000000</td>\n",
       "      <td>153.5000000</td>\n",
       "      <td>16.5000000</td>\n",
       "      <td>852.1000000</td>\n",
       "      <td>887.1000000</td>\n",
       "      <td>56</td>\n",
       "      <td>64.3000000</td>\n",
       "    </tr>\n",
       "    <tr>\n",
       "      <th>884</th>\n",
       "      <td>425.0000000</td>\n",
       "      <td>106.3000000</td>\n",
       "      <td>0.0000000</td>\n",
       "      <td>153.5000000</td>\n",
       "      <td>16.5000000</td>\n",
       "      <td>852.1000000</td>\n",
       "      <td>887.1000000</td>\n",
       "      <td>7</td>\n",
       "      <td>49.2000000</td>\n",
       "    </tr>\n",
       "    <tr>\n",
       "      <th>892</th>\n",
       "      <td>362.6000000</td>\n",
       "      <td>189.0000000</td>\n",
       "      <td>0.0000000</td>\n",
       "      <td>164.9000000</td>\n",
       "      <td>11.6000000</td>\n",
       "      <td>944.7000000</td>\n",
       "      <td>755.8000000</td>\n",
       "      <td>56</td>\n",
       "      <td>77.3000000</td>\n",
       "    </tr>\n",
       "    <tr>\n",
       "      <th>933</th>\n",
       "      <td>362.6000000</td>\n",
       "      <td>189.0000000</td>\n",
       "      <td>0.0000000</td>\n",
       "      <td>164.9000000</td>\n",
       "      <td>11.6000000</td>\n",
       "      <td>944.7000000</td>\n",
       "      <td>755.8000000</td>\n",
       "      <td>7</td>\n",
       "      <td>55.9000000</td>\n",
       "    </tr>\n",
       "    <tr>\n",
       "      <th>943</th>\n",
       "      <td>362.6000000</td>\n",
       "      <td>189.0000000</td>\n",
       "      <td>0.0000000</td>\n",
       "      <td>164.9000000</td>\n",
       "      <td>11.6000000</td>\n",
       "      <td>944.7000000</td>\n",
       "      <td>755.8000000</td>\n",
       "      <td>3</td>\n",
       "      <td>35.3000000</td>\n",
       "    </tr>\n",
       "    <tr>\n",
       "      <th>967</th>\n",
       "      <td>362.6000000</td>\n",
       "      <td>189.0000000</td>\n",
       "      <td>0.0000000</td>\n",
       "      <td>164.9000000</td>\n",
       "      <td>11.6000000</td>\n",
       "      <td>944.7000000</td>\n",
       "      <td>755.8000000</td>\n",
       "      <td>28</td>\n",
       "      <td>71.3000000</td>\n",
       "    </tr>\n",
       "    <tr>\n",
       "      <th>992</th>\n",
       "      <td>425.0000000</td>\n",
       "      <td>106.3000000</td>\n",
       "      <td>0.0000000</td>\n",
       "      <td>153.5000000</td>\n",
       "      <td>16.5000000</td>\n",
       "      <td>852.1000000</td>\n",
       "      <td>887.1000000</td>\n",
       "      <td>28</td>\n",
       "      <td>60.2900000</td>\n",
       "    </tr>\n",
       "  </tbody>\n",
       "</table>\n",
       "</div>"
      ],
      "text/plain": [
       "       clinquer     escoria    cinzas        agua  superplastificante  \\\n",
       "278 425.0000000 106.3000000 0.0000000 153.5000000          16.5000000   \n",
       "298 425.0000000 106.3000000 0.0000000 153.5000000          16.5000000   \n",
       "400 362.6000000 189.0000000 0.0000000 164.9000000          11.6000000   \n",
       "420 362.6000000 189.0000000 0.0000000 164.9000000          11.6000000   \n",
       "463 362.6000000 189.0000000 0.0000000 164.9000000          11.6000000   \n",
       "468 252.0000000   0.0000000 0.0000000 185.0000000           0.0000000   \n",
       "482 425.0000000 106.3000000 0.0000000 153.5000000          16.5000000   \n",
       "493 362.6000000 189.0000000 0.0000000 164.9000000          11.6000000   \n",
       "517 425.0000000 106.3000000 0.0000000 153.5000000          16.5000000   \n",
       "525 362.6000000 189.0000000 0.0000000 164.9000000          11.6000000   \n",
       "527 425.0000000 106.3000000 0.0000000 153.5000000          16.5000000   \n",
       "576 362.6000000 189.0000000 0.0000000 164.9000000          11.6000000   \n",
       "577 425.0000000 106.3000000 0.0000000 153.5000000          16.5000000   \n",
       "604 362.6000000 189.0000000 0.0000000 164.9000000          11.6000000   \n",
       "733 362.6000000 189.0000000 0.0000000 164.9000000          11.6000000   \n",
       "738 362.6000000 189.0000000 0.0000000 164.9000000          11.6000000   \n",
       "766 362.6000000 189.0000000 0.0000000 164.9000000          11.6000000   \n",
       "830 425.0000000 106.3000000 0.0000000 153.5000000          16.5000000   \n",
       "880 425.0000000 106.3000000 0.0000000 153.5000000          16.5000000   \n",
       "884 425.0000000 106.3000000 0.0000000 153.5000000          16.5000000   \n",
       "892 362.6000000 189.0000000 0.0000000 164.9000000          11.6000000   \n",
       "933 362.6000000 189.0000000 0.0000000 164.9000000          11.6000000   \n",
       "943 362.6000000 189.0000000 0.0000000 164.9000000          11.6000000   \n",
       "967 362.6000000 189.0000000 0.0000000 164.9000000          11.6000000   \n",
       "992 425.0000000 106.3000000 0.0000000 153.5000000          16.5000000   \n",
       "\n",
       "     agragado grosso  agregado fino  idade  resistencia  \n",
       "278      852.1000000    887.1000000      3   33.4000000  \n",
       "298      852.1000000    887.1000000      3   33.4000000  \n",
       "400      944.7000000    755.8000000      3   35.3000000  \n",
       "420      944.7000000    755.8000000      3   35.3000000  \n",
       "463      944.7000000    755.8000000     56   77.3000000  \n",
       "468     1111.0000000    784.0000000     28   19.6900000  \n",
       "482      852.1000000    887.1000000     91   65.2000000  \n",
       "493      944.7000000    755.8000000     91   79.3000000  \n",
       "517      852.1000000    887.1000000     56   64.3000000  \n",
       "525      944.7000000    755.8000000     28   71.3000000  \n",
       "527      852.1000000    887.1000000     91   65.2000000  \n",
       "576      944.7000000    755.8000000      7   55.9000000  \n",
       "577      852.1000000    887.1000000     28   60.2900000  \n",
       "604      944.7000000    755.8000000     56   77.3000000  \n",
       "733      944.7000000    755.8000000     91   79.3000000  \n",
       "738      944.7000000    755.8000000     28   71.3000000  \n",
       "766      944.7000000    755.8000000     91   79.3000000  \n",
       "830      852.1000000    887.1000000      7   49.2000000  \n",
       "880      852.1000000    887.1000000     56   64.3000000  \n",
       "884      852.1000000    887.1000000      7   49.2000000  \n",
       "892      944.7000000    755.8000000     56   77.3000000  \n",
       "933      944.7000000    755.8000000      7   55.9000000  \n",
       "943      944.7000000    755.8000000      3   35.3000000  \n",
       "967      944.7000000    755.8000000     28   71.3000000  \n",
       "992      852.1000000    887.1000000     28   60.2900000  "
      ]
     },
     "execution_count": 11,
     "metadata": {},
     "output_type": "execute_result"
    }
   ],
   "source": [
    "duplicado = concrete_df.duplicated()\n",
    "concrete_df[duplicado]"
   ]
  },
  {
   "cell_type": "markdown",
   "id": "daed4b1d",
   "metadata": {},
   "source": [
    "#### 3.1.1Apagando os dados duplicados"
   ]
  },
  {
   "cell_type": "code",
   "execution_count": 12,
   "id": "61875f61",
   "metadata": {},
   "outputs": [
    {
     "data": {
      "text/plain": [
       "(1005, 9)"
      ]
     },
     "execution_count": 12,
     "metadata": {},
     "output_type": "execute_result"
    }
   ],
   "source": [
    "concrete_df.drop_duplicates(inplace=True)\n",
    "concrete_df.shape"
   ]
  },
  {
   "cell_type": "markdown",
   "id": "522b6fba",
   "metadata": {},
   "source": [
    "## 3.2 Procurando Outliers"
   ]
  },
  {
   "cell_type": "markdown",
   "id": "de1e43bf",
   "metadata": {},
   "source": [
    "### 3.2.1 Plotando um boxplot"
   ]
  },
  {
   "cell_type": "code",
   "execution_count": 13,
   "id": "c4d5754e",
   "metadata": {},
   "outputs": [
    {
     "data": {
      "text/plain": [
       "Index(['clinquer', 'escoria', 'cinzas', 'agua', 'superplastificante',\n",
       "       'agragado grosso', 'agregado fino', 'idade', 'resistencia'],\n",
       "      dtype='object')"
      ]
     },
     "execution_count": 13,
     "metadata": {},
     "output_type": "execute_result"
    }
   ],
   "source": [
    "concrete_df.columns"
   ]
  },
  {
   "cell_type": "code",
   "execution_count": 14,
   "id": "1dd46420",
   "metadata": {},
   "outputs": [
    {
     "data": {
      "text/plain": [
       "<AxesSubplot:>"
      ]
     },
     "execution_count": 14,
     "metadata": {},
     "output_type": "execute_result"
    },
    {
     "data": {
      "image/png": "[encoded data removed]",
      "text/plain": [
       "<Figure size 1440x720 with 1 Axes>"
      ]
     },
     "metadata": {
      "needs_background": "light"
     },
     "output_type": "display_data"
    }
   ],
   "source": [
    "concrete_df.boxplot(column = ['clinquer', 'escoria', 'cinzas', 'agua', 'superplastificante',\n",
    "       'agragado grosso', 'agregado fino', 'idade', 'resistencia'], rot=45, figsize = (20,10))"
   ]
  },
  {
   "cell_type": "markdown",
   "id": "1216a3f4",
   "metadata": {},
   "source": [
    "Outliers são dados que se diferenciam drasticamente dos demais e podem ser causados por diversos tipos de erros. Considerar um outliers para treinar o modelo pode levar a erros drásticos, logo estes devem ser apagados ou substituidos.\n",
    "\n",
    "Dessa forma, como mostrado na figura acima, os dados sobre a escória, água, superplastificante, agregado fino, idade e resistência apresentam outliers e devem ser retirados da amostra. Para fazer isso, foi calculado o <i>IQR SCORE</i> que é a diferença entre o quartil 1 e o quartil 3. Depois disso, foi substituido todos os dados que estivessem abaixo de <i>Q1 - 1.5*IQR</i>, por <i>Q1 - 1.5*IQR</i> e acima de <i>Q3 + 1.5*IQR</i>, por <i>Q3 + 1.5*IQR</i>.\n",
    "\n",
    "<b>OBS:</b> A escolha de substituir os dados, ao invés de apagá-los é porque o dataset é relativamente pequeno, assim eliminar muitos dados, podem prejudicar a integridade do modelo."
   ]
  },
  {
   "cell_type": "code",
   "execution_count": 15,
   "id": "d1c26e7f",
   "metadata": {},
   "outputs": [
    {
     "name": "stdout",
     "output_type": "stream",
     "text": [
      "clinquer             158.3000000\n",
      "escoria              142.5000000\n",
      "cinzas               118.3000000\n",
      "agua                  26.3000000\n",
      "superplastificante    10.0000000\n",
      "agragado grosso       99.0000000\n",
      "agregado fino         97.9000000\n",
      "idade                 49.0000000\n",
      "resistencia           21.3500000\n",
      "dtype: float64\n"
     ]
    }
   ],
   "source": [
    "concrete_df_outliers = pd.DataFrame(concrete_df.loc[:,])\n",
    "\n",
    "# Calculando IQR\n",
    "Q1 = concrete_df_outliers.quantile(0.25)\n",
    "Q3 = concrete_df_outliers.quantile(0.75)\n",
    "IQR = Q3 - Q1\n",
    "\n",
    "print(IQR)"
   ]
  },
  {
   "cell_type": "code",
   "execution_count": 16,
   "id": "00cdb231",
   "metadata": {},
   "outputs": [],
   "source": [
    "#Usaremos o IQR score para filtrar os dados Outliers, retirando dados que estiverem acima de Q3 + 1.5IQR e abaixo de Q1 - 1.5IQR\n",
    "\n",
    "# Foi substituido os Outliers acima de Q3 + 1.5*IQR por Q3 + 1.5*IQR - para as colunas: 'agua', 'superplastico', \n",
    "# 'agregado fino', 'idade' e 'resistencia'\n",
    "for i, j in zip(np.where(concrete_df_outliers > Q3 + 1.5 * IQR)[0], np.where(concrete_df_outliers > Q3 + 1.5 * IQR)[1]):\n",
    "    \n",
    "    troca  = Q3 + 1.5 * IQR\n",
    "    concrete_df_outliers.iloc[i,j] = troca[j]\n",
    "    \n",
    "# Foi substituido os Outliers abaixo de Q1 - 1.5*IQR por Q1 - 1.5*IQR para a coluna de água\n",
    "for i, j in zip(np.where(concrete_df_outliers < Q1 - 1.5 * IQR)[0], np.where(concrete_df_outliers < Q1 - 1.5 * IQR)[1]): \n",
    "    \n",
    "    troca  = Q1 - 1.5 * IQR\n",
    "    concrete_df_outliers.iloc[i,j] = troca[j]"
   ]
  },
  {
   "cell_type": "code",
   "execution_count": 17,
   "id": "0231c24a",
   "metadata": {},
   "outputs": [],
   "source": [
    "# Removendo outliers das colunas - 'agua', 'superplastico', 'agregado fino', 'idade', 'agua' e 'resistencia'\n",
    "concrete_df.drop(columns = concrete_df.loc[:,], inplace = True)"
   ]
  },
  {
   "cell_type": "code",
   "execution_count": 18,
   "id": "015a6aee",
   "metadata": {},
   "outputs": [],
   "source": [
    "# Aadicionando as colunas acima sem outliers da concrete_df_outliers to para concret_df\n",
    "concrete_df = pd.concat([concrete_df, concrete_df_outliers], axis = 1)"
   ]
  },
  {
   "cell_type": "code",
   "execution_count": 19,
   "id": "7ed1b2cb",
   "metadata": {},
   "outputs": [
    {
     "data": {
      "image/png": "[encoded data removed]",
      "text/plain": [
       "<Figure size 1440x720 with 1 Axes>"
      ]
     },
     "metadata": {
      "needs_background": "light"
     },
     "output_type": "display_data"
    }
   ],
   "source": [
    "concrete_df.boxplot(column = ['clinquer', 'escoria', 'cinzas', 'agua', 'superplastificante',\n",
    "       'agragado grosso', 'agregado fino', 'idade', 'resistencia'], rot=45, figsize = (20,10));"
   ]
  },
  {
   "cell_type": "markdown",
   "id": "4fac5453",
   "metadata": {},
   "source": [
    "Como observado acima, <b>não</b> há mais outliers nos dados."
   ]
  },
  {
   "cell_type": "markdown",
   "id": "d83b9ca3",
   "metadata": {},
   "source": [
    "### 3.3 Checando valores nulos"
   ]
  },
  {
   "cell_type": "code",
   "execution_count": 20,
   "id": "360806b3",
   "metadata": {},
   "outputs": [
    {
     "data": {
      "text/plain": [
       "clinquer              0\n",
       "escoria               0\n",
       "cinzas                0\n",
       "agua                  0\n",
       "superplastificante    0\n",
       "agragado grosso       0\n",
       "agregado fino         0\n",
       "idade                 0\n",
       "resistencia           0\n",
       "dtype: int64"
      ]
     },
     "execution_count": 20,
     "metadata": {},
     "output_type": "execute_result"
    }
   ],
   "source": [
    "concrete_df.isnull().sum()"
   ]
  },
  {
   "cell_type": "markdown",
   "id": "7b902da0",
   "metadata": {},
   "source": [
    "<b>Não</b> há dados nulos no data set"
   ]
  },
  {
   "cell_type": "markdown",
   "id": "168054f2",
   "metadata": {},
   "source": [
    "#### Resumo sobre a limpeza dos dados\n",
    "- Houveram 25 valores duplicados que foram apagados;\n",
    "- Houveram Outliers nas colunas: 'agua', 'superplastico', 'agregado fino', 'idade', 'resistência'. Tais dados foram substituidos pelo limite outlier superior ou inferior;\n",
    "- Não houve valores nulos no dataset;\n"
   ]
  },
  {
   "cell_type": "markdown",
   "id": "1ba6a75a",
   "metadata": {},
   "source": [
    "## 4.Análise e preparação dos dados"
   ]
  },
  {
   "cell_type": "markdown",
   "id": "9869642f",
   "metadata": {},
   "source": [
    "### 4.1 Análise univariada"
   ]
  },
  {
   "cell_type": "markdown",
   "id": "87e6686c",
   "metadata": {},
   "source": [
    "Aqui, estamos procurando como os dados estão destribuidos."
   ]
  },
  {
   "cell_type": "code",
   "execution_count": 21,
   "id": "1faace21",
   "metadata": {},
   "outputs": [
    {
     "data": {
      "image/png": "[encoded data removed]",
      "text/plain": [
       "<Figure size 936x1800 with 8 Axes>"
      ]
     },
     "metadata": {
      "needs_background": "light"
     },
     "output_type": "display_data"
    }
   ],
   "source": [
    "cols = [i for i in concrete_df.columns if i not in 'resistencia']\n",
    "length = len(cols)\n",
    "cs = [\"b\",\"r\",\"g\",\"c\",\"m\",\"k\",\"lime\",\"c\"]\n",
    "fig = plt.figure(figsize=(13,25))\n",
    "\n",
    "for i,j,k in itertools.zip_longest(cols,range(length),cs):\n",
    "    plt.subplot(4,2,j+1)\n",
    "    ax = sns.distplot(concrete_df[i],color=k,rug=True)\n",
    "    ax.set_facecolor(\"w\")\n",
    "    plt.axvline(concrete_df[i].mean(),linestyle=\"dashed\",label=\"média\",color=\"k\")\n",
    "    plt.legend(loc=\"best\")\n",
    "    plt.title(i,color=\"navy\")\n",
    "    plt.xlabel(\"\")"
   ]
  },
  {
   "cell_type": "markdown",
   "id": "229be73d",
   "metadata": {},
   "source": [
    "A partir da análise univariada dos dados, nota-se a existência de no mínimo duas gaussianas na distribuição de dados referentes a <i>escória</i>, <i>cinzas</i>,<i>superplastificantes</i> e <i>agua</i>. Sendo assim, permite-se afirmar que no <i>dataset</i> há no mínimo 2 e no máximo 6 conjuntos de dados que podem ser separados facilmente."
   ]
  },
  {
   "cell_type": "code",
   "execution_count": 22,
   "id": "129272cf",
   "metadata": {},
   "outputs": [
    {
     "data": {
      "image/png": "[encoded data removed]",
      "text/plain": [
       "<Figure size 936x432 with 1 Axes>"
      ]
     },
     "metadata": {
      "needs_background": "light"
     },
     "output_type": "display_data"
    }
   ],
   "source": [
    "plt.figure(figsize=(13,6))\n",
    "sns.distplot(concrete_df[\"resistencia\"],color=\"b\",rug=True)\n",
    "plt.axvline(concrete_df[\"resistencia\"].mean(), linestyle=\"dashed\",color=\"k\", label='média',linewidth=2)\n",
    "plt.legend(loc=\"best\",prop={\"size\":14})\n",
    "plt.title(\"Distribuição da resistência à compressão do concreto\")\n",
    "plt.show()"
   ]
  },
  {
   "cell_type": "markdown",
   "id": "3bcc77c2",
   "metadata": {},
   "source": [
    "A análise univariada de distribuição referente aos dados de resistência de compressão do contreto mostra dados bem destribuidos."
   ]
  },
  {
   "cell_type": "markdown",
   "id": "4ed634d5",
   "metadata": {},
   "source": [
    "### 4.2 Análise de correlação entre os dados"
   ]
  },
  {
   "cell_type": "markdown",
   "id": "9854c8d7",
   "metadata": {},
   "source": [
    "A análise de correlação mede o grau de dependência entre as variáveis, ou seja, o quanto uma variável interfere na outra, podendo ser uma relação ser uma correlação positiva ou negativa. As variáveis muito correlacionadas entre si, ou seja, que possuem correlações próximas de 1 ou -1, fornecem a mesma informação para o algorítimo, sendo uma delas dispensáveis. Nesses casos, pode-se manter uma variável e excluir outra, ou ainda combinar as duas variáveis em uma só. Geralmente, essa decisão é tomada de acordo com a dificuldade em medir a variável.\n",
    "\n",
    "Já variáveis que possuem relação muito próxima de 0 em relação à variável <i> target </i> do modelo, também é dispensável, pois trás pouca informação."
   ]
  },
  {
   "cell_type": "markdown",
   "id": "4d43cf03",
   "metadata": {},
   "source": [
    "##### Gráfico de calor"
   ]
  },
  {
   "cell_type": "code",
   "execution_count": 23,
   "id": "ff9ed69a",
   "metadata": {},
   "outputs": [
    {
     "data": {
      "image/png": "[encoded data removed]",
      "text/plain": [
       "<Figure size 864x720 with 2 Axes>"
      ]
     },
     "metadata": {
      "needs_background": "light"
     },
     "output_type": "display_data"
    }
   ],
   "source": [
    "corr = abs(concrete_df.corr()) # Matriz de correlaçao\n",
    "lower_triangle = np.tril(corr, k = -1)  # seleciona o menor triangula da matriz\n",
    "mask = lower_triangle == 0 # Apaga a diagonal do mapa de calor, pois a diagonal sempre seré 1\n",
    "#coolwarm\n",
    "#rocket\n",
    "plt.figure(figsize = (12,10))\n",
    "sns.heatmap(lower_triangle, center = 0.5, cmap = 'rocket_r', annot= True, xticklabels = corr.index, yticklabels = corr.columns,\n",
    "            cbar= True, linewidths= 1, mask = mask)   # mapa de calor\n",
    "plt.show()"
   ]
  },
  {
   "cell_type": "markdown",
   "id": "a774d84e",
   "metadata": {},
   "source": [
    "De acordo com o gráfico acima, nota-se que o clínquer, água, superplastificante e a idade possuem uma correlação relativamente grande com a resistência à compressão do concreto. Portanto, são considerados boas variáveis preditoras para o modelo."
   ]
  },
  {
   "cell_type": "markdown",
   "id": "dcccf10b",
   "metadata": {},
   "source": [
    "## 5. Separando os dados em treino e teste"
   ]
  },
  {
   "cell_type": "code",
   "execution_count": 24,
   "id": "d63b565d",
   "metadata": {},
   "outputs": [],
   "source": [
    "X = concrete_df.drop('resistencia',axis=1)\n",
    "y = concrete_df['resistencia']"
   ]
  },
  {
   "cell_type": "markdown",
   "id": "13541dd1",
   "metadata": {},
   "source": [
    "A separação foi na proporção <b>70:30</b> (treino/teste)"
   ]
  },
  {
   "cell_type": "code",
   "execution_count": 25,
   "id": "38d97c9d",
   "metadata": {},
   "outputs": [],
   "source": [
    "X_train, X_test,y_train,y_test = train_test_split(X, y, test_size = 0.30, random_state = 0)"
   ]
  },
  {
   "cell_type": "code",
   "execution_count": 26,
   "id": "a7a0c8c6",
   "metadata": {},
   "outputs": [
    {
     "name": "stdout",
     "output_type": "stream",
     "text": [
      "Xtreino:(703, 8)\n",
      "ytreino:(703,)\n",
      "Xteste:(302, 8)\n",
      "yteste:(302,)\n"
     ]
    }
   ],
   "source": [
    "print(f'Xtreino:{X_train.shape}')\n",
    "print(f'ytreino:{y_train.shape}')\n",
    "print(f'Xteste:{X_test.shape}')\n",
    "print(f'yteste:{y_test.shape}')"
   ]
  },
  {
   "cell_type": "markdown",
   "id": "e682a60e",
   "metadata": {},
   "source": [
    "### 5.1 Criando uma função geral para testar todos os modelos"
   ]
  },
  {
   "cell_type": "code",
   "execution_count": 27,
   "id": "cce80b4d",
   "metadata": {},
   "outputs": [],
   "source": [
    "def train_test_model(model, method, X_train, X_test, y_train, y_test, of_type, index, scale):\n",
    "    \n",
    "    print (f'Modelo: {model}')\n",
    "    print (\"--------------------------------------------------------\")\n",
    "    \n",
    "    if scale == 'yes':\n",
    "        # prepare the model with input scaling\n",
    "        pipeline = Pipeline([('scaler', PowerTransformer()), ('model', model)])\n",
    "    elif scale == 'no':\n",
    "        # prepare the model with input scaling\n",
    "        pipeline = Pipeline([('model', model)])\n",
    "\n",
    "    pipeline.fit(X_train, y_train) # Fit the model on Training set\n",
    "    prediction = pipeline.predict(X_test) # Predict on Test set\n",
    "\n",
    "    r2 = metrics.r2_score(y_test, prediction) # Calculate the r squared value on the Test set\n",
    "    rmse = np.sqrt(metrics.mean_squared_error(y_test, prediction)) # Root mean squared error\n",
    "    \n",
    "    if of_type == \"coef\":\n",
    "        # Intercept and Coefficients\n",
    "        print(\"A interceptação do modelo é: {}\".format(model.intercept_), \"\\n\")\n",
    "        \n",
    "        for idx, col_name in enumerate(X_train.columns):\n",
    "            print(\"O coeficiente para {} é: {}\".format(col_name, model.coef_.ravel()[idx]))\n",
    "    \n",
    "    # Accuracy of Training data set\n",
    "    train_accuracy_score = pipeline.score(X_train, y_train)\n",
    "    \n",
    "    # Accuracy of Test data set\n",
    "    test_accuracy_score = pipeline.score(X_test, y_test)\n",
    "    \n",
    "    print (\"--------------------------------------------------------\")\n",
    "    \n",
    "    if of_type == \"coef\":\n",
    "        \n",
    "        # FEATURE IMPORTANCES plot\n",
    "        plt.figure(figsize=(13,12))\n",
    "        plt.subplot(211)\n",
    "        print(model.coef_)\n",
    "        coef = pd.DataFrame(np.sort(model.coef_)[::-1].ravel())\n",
    "        coef[\"feat\"] = X_train.columns\n",
    "        ax1 = sns.barplot(coef[\"feat\"],coef[0],palette=\"jet_r\", linewidth=2)\n",
    "        ax1.set_facecolor(\"white\")\n",
    "        ax1.axhline(0,color=\"k\",linewidth=2)\n",
    "        plt.ylabel(\"coeficientes\")\n",
    "        plt.xlabel(\"variáveis\")\n",
    "        plt.title(method + ' ' + 'IMPORTÂNCIA DE CADA VARIÁVEL')\n",
    "    \n",
    "    elif of_type == \"feat\":\n",
    "        \n",
    "        # FEATURE IMPORTANCES plot\n",
    "        plt.figure(figsize=(13,12))\n",
    "        plt.subplot(211)\n",
    "        coef = pd.DataFrame(np.sort(model.feature_importances_)[::-1])\n",
    "        coef[\"feat\"] = X_train.columns\n",
    "        ax2 = sns.barplot(coef[\"feat\"], coef[0],palette=\"jet_r\", linewidth=2)\n",
    "        ax2.set_facecolor(\"lightgrey\")\n",
    "        ax2.axhline(0,color=\"k\",linewidth=2)\n",
    "        plt.ylabel(\"coefficients\")\n",
    "        plt.xlabel(\"features\")\n",
    "        plt.title(method + ' ' + 'FEATURE IMPORTANCES')\n",
    "    \n",
    "    # Store the accuracy results for each model in a dataframe for final comparison\n",
    "    resultsDf = pd.DataFrame({'Método': method, 'R²': r2, 'RMSE': rmse, 'Acurácia Treino': train_accuracy_score, \n",
    "                              'Acurácia Teste': test_accuracy_score}, index=[index])\n",
    "    \n",
    "    return resultsDf  # return all the metrics along with predictions"
   ]
  },
  {
   "cell_type": "markdown",
   "id": "ce87f144",
   "metadata": {},
   "source": [
    "Treino e teste de todos os modelos"
   ]
  },
  {
   "cell_type": "code",
   "execution_count": 28,
   "id": "e28fb77e",
   "metadata": {},
   "outputs": [],
   "source": [
    "def train_test_allmodels(X_train_common, X_test_common, y_train, y_test, scale):\n",
    "    # define regressor models\n",
    "    models=[['LinearRegression',LinearRegression()],\n",
    "        ['Ridge',Ridge(random_state = 0)],\n",
    "        ['Lasso',Lasso(random_state = 0)],\n",
    "        ['KNeighborsRegressor',KNeighborsRegressor(n_neighbors = 3)],\n",
    "        ['SVR',SVR(kernel = 'linear')],\n",
    "        ['RandomForestRegressor',RandomForestRegressor(random_state = 0)],\n",
    "        ['BaggingRegressor',BaggingRegressor(random_state = 0)],\n",
    "        ['ExtraTreesRegressor',ExtraTreesRegressor(random_state = 0)],\n",
    "        ['AdaBoostRegressor',AdaBoostRegressor(random_state = 0)],\n",
    "        ['GradientBoostingRegressor',GradientBoostingRegressor(random_state = 0)],\n",
    "        ['CatBoostRegressor',CatBoostRegressor(random_state = 0, verbose=False)],\n",
    "        ['XGBRegressor',XGBRegressor()]\n",
    "    ]\n",
    "\n",
    "    resultsDf_common = pd.DataFrame()\n",
    "    i = 1\n",
    "    for name, regressor in models:\n",
    "        # Train and Test the model\n",
    "        reg_resultsDf = train_test_model(regressor, name, X_train_common, X_test_common, y_train, y_test, 'none', i, scale)\n",
    "\n",
    "        # Store the accuracy results for each model in a dataframe for final comparison\n",
    "        resultsDf_common = pd.concat([resultsDf_common, reg_resultsDf])\n",
    "        i = i+1\n",
    "\n",
    "    return resultsDf_common"
   ]
  },
  {
   "cell_type": "markdown",
   "id": "423dee47",
   "metadata": {},
   "source": [
    "Ajuste dos Hiperparâmetros"
   ]
  },
  {
   "cell_type": "code",
   "execution_count": 29,
   "id": "bc48069a",
   "metadata": {},
   "outputs": [],
   "source": [
    "def hyperparameterstune_model(name, model, X_train, y_train, param_grid):\n",
    "    \n",
    "    start = time.time()  # note the start time \n",
    "    \n",
    "    # define grid search\n",
    "    cv = KFold(n_splits=10, random_state=None)\n",
    "    #grid_search = RandomizedSearchCV(estimator=model, param_distributions=param_grid, n_iter=100, n_jobs=-1, cv=cv, \n",
    "                                     #scoring = 'neg_root_mean_squared_error', error_score=0)\n",
    "    grid_search = GridSearchCV(estimator=model, param_grid=param_grid, n_jobs=-1, cv=cv, \n",
    "                                     scoring = 'neg_root_mean_squared_error', error_score=0)\n",
    "    model_grid_result = grid_search.fit(X_train, y_train)\n",
    "\n",
    "    # summarize results\n",
    "    print(name, \"- Least: RMSE %f using %s\" % (model_grid_result.best_score_ * (-1), model_grid_result.best_params_))\n",
    "    \n",
    "    end = time.time()  # note the end time\n",
    "    duration = end - start  # calculate the total duration\n",
    "    print(\"Total duration\" , duration, \"\\n\")\n",
    "    \n",
    "    return model_grid_result.best_estimator_"
   ]
  },
  {
   "cell_type": "markdown",
   "id": "9543882f",
   "metadata": {},
   "source": [
    "### 5.2 Usando os modelo lineares (Linear, Lasso, Ridge)"
   ]
  },
  {
   "cell_type": "markdown",
   "id": "38995b9d",
   "metadata": {},
   "source": [
    "#### 5.2.1 Linear"
   ]
  },
  {
   "cell_type": "code",
   "execution_count": 30,
   "id": "075efa35",
   "metadata": {},
   "outputs": [
    {
     "name": "stdout",
     "output_type": "stream",
     "text": [
      "Modelo: LinearRegression()\n",
      "--------------------------------------------------------\n",
      "--------------------------------------------------------\n"
     ]
    },
    {
     "data": {
      "text/html": [
       "<div>\n",
       "<style scoped>\n",
       "    .dataframe tbody tr th:only-of-type {\n",
       "        vertical-align: middle;\n",
       "    }\n",
       "\n",
       "    .dataframe tbody tr th {\n",
       "        vertical-align: top;\n",
       "    }\n",
       "\n",
       "    .dataframe thead th {\n",
       "        text-align: right;\n",
       "    }\n",
       "</style>\n",
       "<table border=\"1\" class=\"dataframe\">\n",
       "  <thead>\n",
       "    <tr style=\"text-align: right;\">\n",
       "      <th></th>\n",
       "      <th>Método</th>\n",
       "      <th>R²</th>\n",
       "      <th>RMSE</th>\n",
       "      <th>Acurácia Treino</th>\n",
       "      <th>Acurácia Teste</th>\n",
       "    </tr>\n",
       "  </thead>\n",
       "  <tbody>\n",
       "    <tr>\n",
       "      <th>1</th>\n",
       "      <td>LinearRegression</td>\n",
       "      <td>0.7037271</td>\n",
       "      <td>8.6840742</td>\n",
       "      <td>0.7266022</td>\n",
       "      <td>0.7037271</td>\n",
       "    </tr>\n",
       "  </tbody>\n",
       "</table>\n",
       "</div>"
      ],
      "text/plain": [
       "             Método        R²      RMSE  Acurácia Treino  Acurácia Teste\n",
       "1  LinearRegression 0.7037271 8.6840742        0.7266022       0.7037271"
      ]
     },
     "execution_count": 30,
     "metadata": {},
     "output_type": "execute_result"
    }
   ],
   "source": [
    "# Criando o modelo\n",
    "lr = LinearRegression()\n",
    "                                                     \n",
    "# Treino e teste do modelo\n",
    "resultsDf = train_test_model(lr, 'LinearRegression', X_train, X_test, y_train, y_test, 'none', 1, 'no')\n",
    "\n",
    "resultsDf"
   ]
  },
  {
   "cell_type": "markdown",
   "id": "9f2beacb",
   "metadata": {},
   "source": [
    "O modelo ajusta-se um pouco melhor no treino do que no teste, indicando um leve <i>Overfitting</i>"
   ]
  },
  {
   "cell_type": "markdown",
   "id": "00a67abf",
   "metadata": {},
   "source": [
    "#### 5.2.2 Ridge"
   ]
  },
  {
   "cell_type": "code",
   "execution_count": 31,
   "id": "eadcbdbe",
   "metadata": {},
   "outputs": [
    {
     "name": "stdout",
     "output_type": "stream",
     "text": [
      "Modelo: Ridge(random_state=0)\n",
      "--------------------------------------------------------\n",
      "A interceptação do modelo é: 35.75566145092462 \n",
      "\n",
      "O coeficiente para clinquer é: 8.801420734208957\n",
      "O coeficiente para escoria é: 5.18008338833721\n",
      "O coeficiente para cinzas é: 0.996549193942585\n",
      "O coeficiente para agua é: -4.973031610243944\n",
      "O coeficiente para superplastificante é: 1.7694829426244285\n",
      "O coeficiente para agragado grosso é: -0.46137451027949666\n",
      "O coeficiente para agregado fino é: -1.3421593268157035\n",
      "O coeficiente para idade é: 9.820003650724749\n",
      "--------------------------------------------------------\n",
      "[ 8.80142073  5.18008339  0.99654919 -4.97303161  1.76948294 -0.46137451\n",
      " -1.34215933  9.82000365]\n"
     ]
    },
    {
     "data": {
      "text/html": [
       "<div>\n",
       "<style scoped>\n",
       "    .dataframe tbody tr th:only-of-type {\n",
       "        vertical-align: middle;\n",
       "    }\n",
       "\n",
       "    .dataframe tbody tr th {\n",
       "        vertical-align: top;\n",
       "    }\n",
       "\n",
       "    .dataframe thead th {\n",
       "        text-align: right;\n",
       "    }\n",
       "</style>\n",
       "<table border=\"1\" class=\"dataframe\">\n",
       "  <thead>\n",
       "    <tr style=\"text-align: right;\">\n",
       "      <th></th>\n",
       "      <th>Método</th>\n",
       "      <th>R²</th>\n",
       "      <th>RMSE</th>\n",
       "      <th>Acurácia Treino</th>\n",
       "      <th>Acurácia Teste</th>\n",
       "    </tr>\n",
       "  </thead>\n",
       "  <tbody>\n",
       "    <tr>\n",
       "      <th>1</th>\n",
       "      <td>LinearRegression</td>\n",
       "      <td>0.7037271</td>\n",
       "      <td>8.6840742</td>\n",
       "      <td>0.7266022</td>\n",
       "      <td>0.7037271</td>\n",
       "    </tr>\n",
       "    <tr>\n",
       "      <th>2</th>\n",
       "      <td>Ridge</td>\n",
       "      <td>0.8045394</td>\n",
       "      <td>7.0535418</td>\n",
       "      <td>0.8126396</td>\n",
       "      <td>0.8045394</td>\n",
       "    </tr>\n",
       "  </tbody>\n",
       "</table>\n",
       "</div>"
      ],
      "text/plain": [
       "             Método        R²      RMSE  Acurácia Treino  Acurácia Teste\n",
       "1  LinearRegression 0.7037271 8.6840742        0.7266022       0.7037271\n",
       "2             Ridge 0.8045394 7.0535418        0.8126396       0.8045394"
      ]
     },
     "execution_count": 31,
     "metadata": {},
     "output_type": "execute_result"
    },
    {
     "data": {
      "image/png": "[encoded data removed]",
      "text/plain": [
       "<Figure size 936x864 with 1 Axes>"
      ]
     },
     "metadata": {
      "needs_background": "light"
     },
     "output_type": "display_data"
    }
   ],
   "source": [
    "# Construindo o modlo\n",
    "rr = Ridge(random_state = 0)\n",
    "\n",
    "# Treinando e testando o modelo\n",
    "rr_resultsDf = train_test_model(rr, 'Ridge', X_train, X_test, y_train, y_test, 'coef', 2, 'yes')\n",
    "\n",
    "# Fazendo a comparação entre as métricas do modelo linear e ridge\n",
    "resultsDf = pd.concat([resultsDf,rr_resultsDf])\n",
    "resultsDf"
   ]
  },
  {
   "cell_type": "markdown",
   "id": "2b76aa9d",
   "metadata": {},
   "source": [
    "#### 5.2.3 Lasso"
   ]
  },
  {
   "cell_type": "code",
   "execution_count": 32,
   "id": "426b381f",
   "metadata": {},
   "outputs": [
    {
     "name": "stdout",
     "output_type": "stream",
     "text": [
      "Modelo: Lasso(random_state=0)\n",
      "--------------------------------------------------------\n",
      "A interceptação do modelo é: 35.75566145092462 \n",
      "\n",
      "O coeficiente para clinquer é: 7.591398429537514\n",
      "O coeficiente para escoria é: 3.9094880908728005\n",
      "O coeficiente para cinzas é: 0.0\n",
      "O coeficiente para agua é: -2.9227949557577695\n",
      "O coeficiente para superplastificante é: 2.618825573472385\n",
      "O coeficiente para agragado grosso é: -0.0\n",
      "O coeficiente para agregado fino é: -0.15765063519307626\n",
      "O coeficiente para idade é: 8.755073197446395\n",
      "--------------------------------------------------------\n",
      "[ 7.59139843  3.90948809  0.         -2.92279496  2.61882557 -0.\n",
      " -0.15765064  8.7550732 ]\n"
     ]
    },
    {
     "data": {
      "text/html": [
       "<div>\n",
       "<style scoped>\n",
       "    .dataframe tbody tr th:only-of-type {\n",
       "        vertical-align: middle;\n",
       "    }\n",
       "\n",
       "    .dataframe tbody tr th {\n",
       "        vertical-align: top;\n",
       "    }\n",
       "\n",
       "    .dataframe thead th {\n",
       "        text-align: right;\n",
       "    }\n",
       "</style>\n",
       "<table border=\"1\" class=\"dataframe\">\n",
       "  <thead>\n",
       "    <tr style=\"text-align: right;\">\n",
       "      <th></th>\n",
       "      <th>Método</th>\n",
       "      <th>R²</th>\n",
       "      <th>RMSE</th>\n",
       "      <th>Acurácia Treino</th>\n",
       "      <th>Acurácia Teste</th>\n",
       "    </tr>\n",
       "  </thead>\n",
       "  <tbody>\n",
       "    <tr>\n",
       "      <th>1</th>\n",
       "      <td>LinearRegression</td>\n",
       "      <td>0.7037271</td>\n",
       "      <td>8.6840742</td>\n",
       "      <td>0.7266022</td>\n",
       "      <td>0.7037271</td>\n",
       "    </tr>\n",
       "    <tr>\n",
       "      <th>2</th>\n",
       "      <td>Ridge</td>\n",
       "      <td>0.8045394</td>\n",
       "      <td>7.0535418</td>\n",
       "      <td>0.8126396</td>\n",
       "      <td>0.8045394</td>\n",
       "    </tr>\n",
       "    <tr>\n",
       "      <th>3</th>\n",
       "      <td>Lasso</td>\n",
       "      <td>0.7741950</td>\n",
       "      <td>7.5813122</td>\n",
       "      <td>0.7884693</td>\n",
       "      <td>0.7741950</td>\n",
       "    </tr>\n",
       "  </tbody>\n",
       "</table>\n",
       "</div>"
      ],
      "text/plain": [
       "             Método        R²      RMSE  Acurácia Treino  Acurácia Teste\n",
       "1  LinearRegression 0.7037271 8.6840742        0.7266022       0.7037271\n",
       "2             Ridge 0.8045394 7.0535418        0.8126396       0.8045394\n",
       "3             Lasso 0.7741950 7.5813122        0.7884693       0.7741950"
      ]
     },
     "execution_count": 32,
     "metadata": {},
     "output_type": "execute_result"
    },
    {
     "data": {
      "image/png": "[encoded data removed]",
      "text/plain": [
       "<Figure size 936x864 with 1 Axes>"
      ]
     },
     "metadata": {
      "needs_background": "light"
     },
     "output_type": "display_data"
    }
   ],
   "source": [
    "# Constrindo o modelo\n",
    "lasso = Lasso(random_state = 0)\n",
    "\n",
    "# Treino e teste do modelo\n",
    "lasso_resultsDf = train_test_model(lasso, 'Lasso', X_train, X_test, y_train, y_test, 'coef', 3, 'yes')\n",
    "\n",
    "# Concatenando todos os resultados\n",
    "resultsDf = pd.concat([resultsDf, lasso_resultsDf])\n",
    "resultsDf"
   ]
  },
  {
   "cell_type": "markdown",
   "id": "c8cf5b1e",
   "metadata": {},
   "source": [
    "### 5.3 Modelo polinomial"
   ]
  },
  {
   "cell_type": "markdown",
   "id": "df0dee0c",
   "metadata": {},
   "source": [
    "Polinômios de grau 1 a 5"
   ]
  },
  {
   "cell_type": "code",
   "execution_count": 33,
   "id": "df9f6368",
   "metadata": {},
   "outputs": [
    {
     "data": {
      "text/html": [
       "<div>\n",
       "<style scoped>\n",
       "    .dataframe tbody tr th:only-of-type {\n",
       "        vertical-align: middle;\n",
       "    }\n",
       "\n",
       "    .dataframe tbody tr th {\n",
       "        vertical-align: top;\n",
       "    }\n",
       "\n",
       "    .dataframe thead th {\n",
       "        text-align: right;\n",
       "    }\n",
       "</style>\n",
       "<table border=\"1\" class=\"dataframe\">\n",
       "  <thead>\n",
       "    <tr style=\"text-align: right;\">\n",
       "      <th></th>\n",
       "      <th>Método</th>\n",
       "      <th>R²</th>\n",
       "      <th>RMSE</th>\n",
       "      <th>Acurácia Treino</th>\n",
       "      <th>Acurácia Teste</th>\n",
       "    </tr>\n",
       "  </thead>\n",
       "  <tbody>\n",
       "    <tr>\n",
       "      <th>0</th>\n",
       "      <td>Polinomio 1° grau</td>\n",
       "      <td>0.8045347</td>\n",
       "      <td>7.0536265</td>\n",
       "      <td>0.8126429</td>\n",
       "      <td>0.8045347</td>\n",
       "    </tr>\n",
       "    <tr>\n",
       "      <th>1</th>\n",
       "      <td>Polinomio 2° grau</td>\n",
       "      <td>0.8545316</td>\n",
       "      <td>6.0850193</td>\n",
       "      <td>0.8844317</td>\n",
       "      <td>0.8545316</td>\n",
       "    </tr>\n",
       "    <tr>\n",
       "      <th>2</th>\n",
       "      <td>Polinomio 3° grau</td>\n",
       "      <td>0.8646840</td>\n",
       "      <td>5.8688388</td>\n",
       "      <td>0.9484564</td>\n",
       "      <td>0.8646840</td>\n",
       "    </tr>\n",
       "    <tr>\n",
       "      <th>3</th>\n",
       "      <td>Polinomio 4° grau</td>\n",
       "      <td>-74.5252993</td>\n",
       "      <td>138.6512539</td>\n",
       "      <td>0.9914714</td>\n",
       "      <td>-74.5252993</td>\n",
       "    </tr>\n",
       "    <tr>\n",
       "      <th>4</th>\n",
       "      <td>Polinomio 5° grau</td>\n",
       "      <td>-180906476761501440.0000000</td>\n",
       "      <td>6785855879.2165422</td>\n",
       "      <td>0.9949591</td>\n",
       "      <td>-180906476761501440.0000000</td>\n",
       "    </tr>\n",
       "  </tbody>\n",
       "</table>\n",
       "</div>"
      ],
      "text/plain": [
       "              Método                          R²               RMSE  \\\n",
       "0  Polinomio 1° grau                   0.8045347          7.0536265   \n",
       "1  Polinomio 2° grau                   0.8545316          6.0850193   \n",
       "2  Polinomio 3° grau                   0.8646840          5.8688388   \n",
       "3  Polinomio 4° grau                 -74.5252993        138.6512539   \n",
       "4  Polinomio 5° grau -180906476761501440.0000000 6785855879.2165422   \n",
       "\n",
       "   Acurácia Treino              Acurácia Teste  \n",
       "0        0.8126429                   0.8045347  \n",
       "1        0.8844317                   0.8545316  \n",
       "2        0.9484564                   0.8646840  \n",
       "3        0.9914714                 -74.5252993  \n",
       "4        0.9949591 -180906476761501440.0000000  "
      ]
     },
     "execution_count": 33,
     "metadata": {},
     "output_type": "execute_result"
    }
   ],
   "source": [
    "resultsDf_poly = pd.DataFrame(columns=['Método','R²','RMSE','Acurácia Treino','Acurácia Teste'])\n",
    "for i in range(1,6):\n",
    "    pipe = Pipeline([('scaler', PowerTransformer()), ('polynomial', PolynomialFeatures(degree = i)), \n",
    "                 ('model', LinearRegression())]) # Criando a pipiline\n",
    "    pipe.fit(X_train, y_train) # Treinando o modelo\n",
    "    prediction = pipe.predict(X_test) # Testando o modelo\n",
    "    method = f'Polinomio {i}° grau'\n",
    "    r2 = metrics.r2_score(y_test, prediction) # Calculando r²\n",
    "    rmse = np.sqrt(metrics.mean_squared_error(y_test, prediction)) # RMSE\n",
    "    train_accuracy_score = pipe.score(X_train, y_train) # Acurácia nos dados de treino\n",
    "    test_accuracy_score = pipe.score(X_test, y_test) # Acurácia nos dados de teste\n",
    "    \n",
    "    resultsDf_poly = resultsDf_poly.append({'Método': method, 'R²': r2, 'RMSE': rmse, 'Acurácia Treino': train_accuracy_score, \n",
    "                              'Acurácia Teste': test_accuracy_score},ignore_index=True)\n",
    "    \n",
    "resultsDf_poly"
   ]
  },
  {
   "cell_type": "markdown",
   "id": "bb614ddd",
   "metadata": {},
   "source": [
    "Todos os Modelos até agora"
   ]
  },
  {
   "cell_type": "code",
   "execution_count": 34,
   "id": "b2624ce8",
   "metadata": {},
   "outputs": [
    {
     "data": {
      "text/html": [
       "<div>\n",
       "<style scoped>\n",
       "    .dataframe tbody tr th:only-of-type {\n",
       "        vertical-align: middle;\n",
       "    }\n",
       "\n",
       "    .dataframe tbody tr th {\n",
       "        vertical-align: top;\n",
       "    }\n",
       "\n",
       "    .dataframe thead th {\n",
       "        text-align: right;\n",
       "    }\n",
       "</style>\n",
       "<table border=\"1\" class=\"dataframe\">\n",
       "  <thead>\n",
       "    <tr style=\"text-align: right;\">\n",
       "      <th></th>\n",
       "      <th>Método</th>\n",
       "      <th>R²</th>\n",
       "      <th>RMSE</th>\n",
       "      <th>Acurácia Treino</th>\n",
       "      <th>Acurácia Teste</th>\n",
       "    </tr>\n",
       "  </thead>\n",
       "  <tbody>\n",
       "    <tr>\n",
       "      <th>1</th>\n",
       "      <td>LinearRegression</td>\n",
       "      <td>0.7037271</td>\n",
       "      <td>8.6840742</td>\n",
       "      <td>0.7266022</td>\n",
       "      <td>0.7037271</td>\n",
       "    </tr>\n",
       "    <tr>\n",
       "      <th>2</th>\n",
       "      <td>Ridge</td>\n",
       "      <td>0.8045394</td>\n",
       "      <td>7.0535418</td>\n",
       "      <td>0.8126396</td>\n",
       "      <td>0.8045394</td>\n",
       "    </tr>\n",
       "    <tr>\n",
       "      <th>3</th>\n",
       "      <td>Lasso</td>\n",
       "      <td>0.7741950</td>\n",
       "      <td>7.5813122</td>\n",
       "      <td>0.7884693</td>\n",
       "      <td>0.7741950</td>\n",
       "    </tr>\n",
       "    <tr>\n",
       "      <th>0</th>\n",
       "      <td>Polinomio 1° grau</td>\n",
       "      <td>0.8045347</td>\n",
       "      <td>7.0536265</td>\n",
       "      <td>0.8126429</td>\n",
       "      <td>0.8045347</td>\n",
       "    </tr>\n",
       "    <tr>\n",
       "      <th>1</th>\n",
       "      <td>Polinomio 2° grau</td>\n",
       "      <td>0.8545316</td>\n",
       "      <td>6.0850193</td>\n",
       "      <td>0.8844317</td>\n",
       "      <td>0.8545316</td>\n",
       "    </tr>\n",
       "    <tr>\n",
       "      <th>2</th>\n",
       "      <td>Polinomio 3° grau</td>\n",
       "      <td>0.8646840</td>\n",
       "      <td>5.8688388</td>\n",
       "      <td>0.9484564</td>\n",
       "      <td>0.8646840</td>\n",
       "    </tr>\n",
       "    <tr>\n",
       "      <th>3</th>\n",
       "      <td>Polinomio 4° grau</td>\n",
       "      <td>-74.5252993</td>\n",
       "      <td>138.6512539</td>\n",
       "      <td>0.9914714</td>\n",
       "      <td>-74.5252993</td>\n",
       "    </tr>\n",
       "    <tr>\n",
       "      <th>4</th>\n",
       "      <td>Polinomio 5° grau</td>\n",
       "      <td>-180906476761501440.0000000</td>\n",
       "      <td>6785855879.2165422</td>\n",
       "      <td>0.9949591</td>\n",
       "      <td>-180906476761501440.0000000</td>\n",
       "    </tr>\n",
       "  </tbody>\n",
       "</table>\n",
       "</div>"
      ],
      "text/plain": [
       "              Método                          R²               RMSE  \\\n",
       "1   LinearRegression                   0.7037271          8.6840742   \n",
       "2              Ridge                   0.8045394          7.0535418   \n",
       "3              Lasso                   0.7741950          7.5813122   \n",
       "0  Polinomio 1° grau                   0.8045347          7.0536265   \n",
       "1  Polinomio 2° grau                   0.8545316          6.0850193   \n",
       "2  Polinomio 3° grau                   0.8646840          5.8688388   \n",
       "3  Polinomio 4° grau                 -74.5252993        138.6512539   \n",
       "4  Polinomio 5° grau -180906476761501440.0000000 6785855879.2165422   \n",
       "\n",
       "   Acurácia Treino              Acurácia Teste  \n",
       "1        0.7266022                   0.7037271  \n",
       "2        0.8126396                   0.8045394  \n",
       "3        0.7884693                   0.7741950  \n",
       "0        0.8126429                   0.8045347  \n",
       "1        0.8844317                   0.8545316  \n",
       "2        0.9484564                   0.8646840  \n",
       "3        0.9914714                 -74.5252993  \n",
       "4        0.9949591 -180906476761501440.0000000  "
      ]
     },
     "execution_count": 34,
     "metadata": {},
     "output_type": "execute_result"
    }
   ],
   "source": [
    "resultsDf = pd.concat([resultsDf, resultsDf_poly])\n",
    "resultsDf"
   ]
  },
  {
   "cell_type": "markdown",
   "id": "48695adb",
   "metadata": {},
   "source": [
    "### 5.4 KNN"
   ]
  },
  {
   "cell_type": "markdown",
   "id": "3eac7119",
   "metadata": {},
   "source": [
    "A função abaixo transforma os dados em uma distrubuição gaussiana"
   ]
  },
  {
   "cell_type": "code",
   "execution_count": 35,
   "id": "13463551",
   "metadata": {},
   "outputs": [],
   "source": [
    "def train_test_transform(X_train, X_test):\n",
    "    scale = PowerTransformer()\n",
    "    \n",
    "    X_train_scaled = pd.DataFrame(scale.fit_transform(X_train))\n",
    "    X_test_scaled = pd.DataFrame(scale.fit_transform(X_test))\n",
    "    \n",
    "    return X_train_scaled, X_test_scaled"
   ]
  },
  {
   "cell_type": "code",
   "execution_count": 36,
   "id": "d4966c6d",
   "metadata": {},
   "outputs": [],
   "source": [
    "from sklearn.metrics import r2_score\n",
    "error = []\n",
    "r2 = []\n",
    "X_train_scaled, X_test_scaled = train_test_transform(X_train, X_test)\n",
    "# Treina o modelo e avalia as métricas para o parâmetro k (vizinhos) de 2 a 30;\n",
    "for k in range(1,30):\n",
    "    knn = KNeighborsRegressor(n_neighbors=k)\n",
    "    knn.fit(X_train_scaled, y_train)\n",
    "    y_pred = knn.predict(X_test_scaled)\n",
    "    r2.append(r2_score(y_test,y_pred))\n",
    "    error.append(np.mean(y_pred != y_test)) # Calcula o ero e adiciona na lista"
   ]
  },
  {
   "cell_type": "markdown",
   "id": "5de8c032",
   "metadata": {},
   "source": [
    "Plotagem dos erros de acordo com o parâmetro k"
   ]
  },
  {
   "cell_type": "code",
   "execution_count": 37,
   "id": "611e1042",
   "metadata": {},
   "outputs": [
    {
     "data": {
      "text/plain": [
       "Text(0, 0.5, 'erro médio')"
      ]
     },
     "execution_count": 37,
     "metadata": {},
     "output_type": "execute_result"
    },
    {
     "data": {
      "image/png": "[encoded data removed]",
      "text/plain": [
       "<Figure size 864x432 with 1 Axes>"
      ]
     },
     "metadata": {
      "needs_background": "light"
     },
     "output_type": "display_data"
    }
   ],
   "source": [
    "plt.figure(figsize=(12,6))\n",
    "plt.plot(range(1,30), error, color='red', linestyle='dashed',marker='o',markerfacecolor='blue',markersize=10)\n",
    "plt.xlabel('K')\n",
    "plt.ylabel('erro médio')"
   ]
  },
  {
   "cell_type": "code",
   "execution_count": 38,
   "id": "72730417",
   "metadata": {},
   "outputs": [
    {
     "data": {
      "text/plain": [
       "Text(0, 0.5, 'r²')"
      ]
     },
     "execution_count": 38,
     "metadata": {},
     "output_type": "execute_result"
    },
    {
     "data": {
      "image/png": "[encoded data removed]",
      "text/plain": [
       "<Figure size 864x432 with 1 Axes>"
      ]
     },
     "metadata": {
      "needs_background": "light"
     },
     "output_type": "display_data"
    }
   ],
   "source": [
    "plt.figure(figsize=(12,6))\n",
    "plt.plot(range(1,30), r2, color='red', linestyle='dashed',marker='o',markerfacecolor='blue',markersize=10)\n",
    "plt.xlabel('K')\n",
    "plt.ylabel('r²')"
   ]
  },
  {
   "cell_type": "code",
   "execution_count": 39,
   "id": "dc88cb29",
   "metadata": {},
   "outputs": [
    {
     "name": "stdout",
     "output_type": "stream",
     "text": [
      "Modelo: KNeighborsRegressor(n_neighbors=4)\n",
      "--------------------------------------------------------\n",
      "--------------------------------------------------------\n"
     ]
    },
    {
     "data": {
      "text/html": [
       "<div>\n",
       "<style scoped>\n",
       "    .dataframe tbody tr th:only-of-type {\n",
       "        vertical-align: middle;\n",
       "    }\n",
       "\n",
       "    .dataframe tbody tr th {\n",
       "        vertical-align: top;\n",
       "    }\n",
       "\n",
       "    .dataframe thead th {\n",
       "        text-align: right;\n",
       "    }\n",
       "</style>\n",
       "<table border=\"1\" class=\"dataframe\">\n",
       "  <thead>\n",
       "    <tr style=\"text-align: right;\">\n",
       "      <th></th>\n",
       "      <th>Método</th>\n",
       "      <th>R²</th>\n",
       "      <th>RMSE</th>\n",
       "      <th>Acurácia Treino</th>\n",
       "      <th>Acurácia Teste</th>\n",
       "    </tr>\n",
       "  </thead>\n",
       "  <tbody>\n",
       "    <tr>\n",
       "      <th>1</th>\n",
       "      <td>LinearRegression</td>\n",
       "      <td>0.7037271</td>\n",
       "      <td>8.6840742</td>\n",
       "      <td>0.7266022</td>\n",
       "      <td>0.7037271</td>\n",
       "    </tr>\n",
       "    <tr>\n",
       "      <th>2</th>\n",
       "      <td>Ridge</td>\n",
       "      <td>0.8045394</td>\n",
       "      <td>7.0535418</td>\n",
       "      <td>0.8126396</td>\n",
       "      <td>0.8045394</td>\n",
       "    </tr>\n",
       "    <tr>\n",
       "      <th>3</th>\n",
       "      <td>Lasso</td>\n",
       "      <td>0.7741950</td>\n",
       "      <td>7.5813122</td>\n",
       "      <td>0.7884693</td>\n",
       "      <td>0.7741950</td>\n",
       "    </tr>\n",
       "    <tr>\n",
       "      <th>0</th>\n",
       "      <td>Polinomio 1° grau</td>\n",
       "      <td>0.8045347</td>\n",
       "      <td>7.0536265</td>\n",
       "      <td>0.8126429</td>\n",
       "      <td>0.8045347</td>\n",
       "    </tr>\n",
       "    <tr>\n",
       "      <th>1</th>\n",
       "      <td>Polinomio 2° grau</td>\n",
       "      <td>0.8545316</td>\n",
       "      <td>6.0850193</td>\n",
       "      <td>0.8844317</td>\n",
       "      <td>0.8545316</td>\n",
       "    </tr>\n",
       "    <tr>\n",
       "      <th>2</th>\n",
       "      <td>Polinomio 3° grau</td>\n",
       "      <td>0.8646840</td>\n",
       "      <td>5.8688388</td>\n",
       "      <td>0.9484564</td>\n",
       "      <td>0.8646840</td>\n",
       "    </tr>\n",
       "    <tr>\n",
       "      <th>3</th>\n",
       "      <td>Polinomio 4° grau</td>\n",
       "      <td>-74.5252993</td>\n",
       "      <td>138.6512539</td>\n",
       "      <td>0.9914714</td>\n",
       "      <td>-74.5252993</td>\n",
       "    </tr>\n",
       "    <tr>\n",
       "      <th>4</th>\n",
       "      <td>Polinomio 5° grau</td>\n",
       "      <td>-180906476761501440.0000000</td>\n",
       "      <td>6785855879.2165422</td>\n",
       "      <td>0.9949591</td>\n",
       "      <td>-180906476761501440.0000000</td>\n",
       "    </tr>\n",
       "    <tr>\n",
       "      <th>10</th>\n",
       "      <td>KNeighborsRegressor4</td>\n",
       "      <td>0.8113088</td>\n",
       "      <td>6.9303209</td>\n",
       "      <td>0.9137933</td>\n",
       "      <td>0.8113088</td>\n",
       "    </tr>\n",
       "  </tbody>\n",
       "</table>\n",
       "</div>"
      ],
      "text/plain": [
       "                  Método                          R²               RMSE  \\\n",
       "1       LinearRegression                   0.7037271          8.6840742   \n",
       "2                  Ridge                   0.8045394          7.0535418   \n",
       "3                  Lasso                   0.7741950          7.5813122   \n",
       "0      Polinomio 1° grau                   0.8045347          7.0536265   \n",
       "1      Polinomio 2° grau                   0.8545316          6.0850193   \n",
       "2      Polinomio 3° grau                   0.8646840          5.8688388   \n",
       "3      Polinomio 4° grau                 -74.5252993        138.6512539   \n",
       "4      Polinomio 5° grau -180906476761501440.0000000 6785855879.2165422   \n",
       "10  KNeighborsRegressor4                   0.8113088          6.9303209   \n",
       "\n",
       "    Acurácia Treino              Acurácia Teste  \n",
       "1         0.7266022                   0.7037271  \n",
       "2         0.8126396                   0.8045394  \n",
       "3         0.7884693                   0.7741950  \n",
       "0         0.8126429                   0.8045347  \n",
       "1         0.8844317                   0.8545316  \n",
       "2         0.9484564                   0.8646840  \n",
       "3         0.9914714                 -74.5252993  \n",
       "4         0.9949591 -180906476761501440.0000000  \n",
       "10        0.9137933                   0.8113088  "
      ]
     },
     "execution_count": 39,
     "metadata": {},
     "output_type": "execute_result"
    }
   ],
   "source": [
    "# Construindo um modelo\n",
    "knn = KNeighborsRegressor(n_neighbors = 4)\n",
    "\n",
    "# Train and Test the model\n",
    "knn_resultsDf = train_test_model(knn, 'KNeighborsRegressor4', X_train, X_test, y_train, y_test, 'none', 10, 'yes')\n",
    "resultsDf = pd.concat([resultsDf, knn_resultsDf])\n",
    "resultsDf"
   ]
  },
  {
   "cell_type": "markdown",
   "id": "938b0d77",
   "metadata": {},
   "source": [
    "### 5.5 O resto dos modelos"
   ]
  },
  {
   "cell_type": "code",
   "execution_count": 40,
   "id": "d3dbd888",
   "metadata": {},
   "outputs": [
    {
     "name": "stdout",
     "output_type": "stream",
     "text": [
      "Modelo: SVR(kernel='linear')\n",
      "--------------------------------------------------------\n",
      "A interceptação do modelo é: [35.49139025] \n",
      "\n",
      "O coeficiente para clinquer é: 8.199665617187392\n",
      "O coeficiente para escoria é: 4.759485511890736\n",
      "O coeficiente para cinzas é: 0.8276935696023511\n",
      "O coeficiente para agua é: -4.727223484329558\n",
      "O coeficiente para superplastificante é: 1.8503052486303702\n",
      "O coeficiente para agragado grosso é: -0.7175766443099878\n",
      "O coeficiente para agregado fino é: -1.5442832751423747\n",
      "O coeficiente para idade é: 9.899198638868564\n",
      "--------------------------------------------------------\n",
      "[[ 8.19966562  4.75948551  0.82769357 -4.72722348  1.85030525 -0.71757664\n",
      "  -1.54428328  9.89919864]]\n",
      "Modelo: DecisionTreeRegressor(random_state=0)\n",
      "--------------------------------------------------------\n",
      "--------------------------------------------------------\n",
      "Modelo: RandomForestRegressor(random_state=0)\n",
      "--------------------------------------------------------\n",
      "--------------------------------------------------------\n",
      "Modelo: BaggingRegressor(random_state=0)\n",
      "--------------------------------------------------------\n",
      "--------------------------------------------------------\n",
      "Modelo: ExtraTreesRegressor(random_state=0)\n",
      "--------------------------------------------------------\n",
      "--------------------------------------------------------\n",
      "Modelo: AdaBoostRegressor(random_state=0)\n",
      "--------------------------------------------------------\n",
      "--------------------------------------------------------\n",
      "Modelo: GradientBoostingRegressor(random_state=0)\n",
      "--------------------------------------------------------\n",
      "--------------------------------------------------------\n",
      "Modelo: <catboost.core.CatBoostRegressor object at 0x00000225EDD35640>\n",
      "--------------------------------------------------------\n",
      "--------------------------------------------------------\n",
      "Modelo: XGBRegressor(base_score=None, booster=None, colsample_bylevel=None,\n",
      "             colsample_bynode=None, colsample_bytree=None,\n",
      "             enable_categorical=False, gamma=None, gpu_id=None,\n",
      "             importance_type=None, interaction_constraints=None,\n",
      "             learning_rate=None, max_delta_step=None, max_depth=None,\n",
      "             min_child_weight=None, missing=nan, monotone_constraints=None,\n",
      "             n_estimators=100, n_jobs=None, num_parallel_tree=None,\n",
      "             predictor=None, random_state=None, reg_alpha=None, reg_lambda=None,\n",
      "             scale_pos_weight=None, subsample=None, tree_method=None,\n",
      "             validate_parameters=None, verbosity=None)\n",
      "--------------------------------------------------------\n",
      "--------------------------------------------------------\n"
     ]
    },
    {
     "data": {
      "image/png": "[encoded data removed]",
      "text/plain": [
       "<Figure size 936x864 with 1 Axes>"
      ]
     },
     "metadata": {
      "needs_background": "light"
     },
     "output_type": "display_data"
    },
    {
     "data": {
      "image/png": "[encoded data removed]",
      "text/plain": [
       "<Figure size 936x864 with 1 Axes>"
      ]
     },
     "metadata": {
      "needs_background": "light"
     },
     "output_type": "display_data"
    },
    {
     "data": {
      "image/png": "[encoded data removed]",
      "text/plain": [
       "<Figure size 936x864 with 1 Axes>"
      ]
     },
     "metadata": {
      "needs_background": "light"
     },
     "output_type": "display_data"
    },
    {
     "data": {
      "image/png": "[encoded data removed]",
      "text/plain": [
       "<Figure size 936x864 with 1 Axes>"
      ]
     },
     "metadata": {
      "needs_background": "light"
     },
     "output_type": "display_data"
    },
    {
     "data": {
      "image/png": "[encoded data removed]",
      "text/plain": [
       "<Figure size 936x864 with 1 Axes>"
      ]
     },
     "metadata": {
      "needs_background": "light"
     },
     "output_type": "display_data"
    },
    {
     "data": {
      "image/png": "[encoded data removed]",
      "text/plain": [
       "<Figure size 936x864 with 1 Axes>"
      ]
     },
     "metadata": {
      "needs_background": "light"
     },
     "output_type": "display_data"
    },
    {
     "data": {
      "image/png": "[encoded data removed]",
      "text/plain": [
       "<Figure size 936x864 with 1 Axes>"
      ]
     },
     "metadata": {
      "needs_background": "light"
     },
     "output_type": "display_data"
    },
    {
     "data": {
      "image/png": "[encoded data removed]",
      "text/plain": [
       "<Figure size 936x864 with 1 Axes>"
      ]
     },
     "metadata": {
      "needs_background": "light"
     },
     "output_type": "display_data"
    }
   ],
   "source": [
    "# Definindo os modelos de regressão\n",
    "modelos=[\n",
    "    ['SVR',SVR(kernel='linear')],\n",
    "    ['DecisionTreeRegressor', DecisionTreeRegressor(random_state = 0)],\n",
    "    ['RandomForestRegressor',RandomForestRegressor(random_state = 0)],\n",
    "    ['BaggingRegressor',BaggingRegressor(random_state = 0)],\n",
    "    ['ExtraTreesRegressor',ExtraTreesRegressor(random_state = 0)],\n",
    "    ['AdaBoostRegressor',AdaBoostRegressor(random_state = 0)],\n",
    "    ['GradientBoostingRegressor',GradientBoostingRegressor(random_state = 0)],\n",
    "    ['CatBoostRegressor',CatBoostRegressor(random_state = 0, verbose=False,depth=4,l2_leaf_reg=9,learning_rate=0.03)],\n",
    "    ['XGBRegressor',XGBRegressor()]\n",
    "]\n",
    "\n",
    "\n",
    "i = 11\n",
    "for name, regressor in modelos:\n",
    "    if name == 'SVR':\n",
    "        # treino e teste do modelo\n",
    "        svr_resultsDf = train_test_model(regressor, name, X_train, X_test, y_train, y_test, 'coef', i, 'yes')\n",
    "\n",
    "        # guardando as métricas para comparação\n",
    "        resultsDf = pd.concat([resultsDf, svr_resultsDf])\n",
    "    elif name == 'BaggingRegressor':\n",
    "        # Treino e teste do modelo\n",
    "        bag_resultsDf = train_test_model(regressor, name, X_train, X_test, y_train, y_test, 'none', i, 'yes')\n",
    "\n",
    "        # treino e teste do modelo\n",
    "        resultsDf = pd.concat([resultsDf, bag_resultsDf])\n",
    "    else:\n",
    "        # treino e teste do modelo\n",
    "        ensemble_resultsDf = train_test_model(regressor, name, X_train, X_test, y_train, y_test, 'feat', i, 'yes')\n",
    "\n",
    "        # guardando as métricas para comparação\n",
    "        resultsDf = pd.concat([resultsDf, ensemble_resultsDf])\n",
    "    i = i+1"
   ]
  },
  {
   "cell_type": "code",
   "execution_count": 41,
   "id": "77f9d795",
   "metadata": {},
   "outputs": [
    {
     "data": {
      "text/html": [
       "<div>\n",
       "<style scoped>\n",
       "    .dataframe tbody tr th:only-of-type {\n",
       "        vertical-align: middle;\n",
       "    }\n",
       "\n",
       "    .dataframe tbody tr th {\n",
       "        vertical-align: top;\n",
       "    }\n",
       "\n",
       "    .dataframe thead th {\n",
       "        text-align: right;\n",
       "    }\n",
       "</style>\n",
       "<table border=\"1\" class=\"dataframe\">\n",
       "  <thead>\n",
       "    <tr style=\"text-align: right;\">\n",
       "      <th></th>\n",
       "      <th>Método</th>\n",
       "      <th>R²</th>\n",
       "      <th>RMSE</th>\n",
       "      <th>Acurácia Treino</th>\n",
       "      <th>Acurácia Teste</th>\n",
       "    </tr>\n",
       "  </thead>\n",
       "  <tbody>\n",
       "    <tr>\n",
       "      <th>1</th>\n",
       "      <td>LinearRegression</td>\n",
       "      <td>0.7037271</td>\n",
       "      <td>8.6840742</td>\n",
       "      <td>0.7266022</td>\n",
       "      <td>0.7037271</td>\n",
       "    </tr>\n",
       "    <tr>\n",
       "      <th>2</th>\n",
       "      <td>Ridge</td>\n",
       "      <td>0.8045394</td>\n",
       "      <td>7.0535418</td>\n",
       "      <td>0.8126396</td>\n",
       "      <td>0.8045394</td>\n",
       "    </tr>\n",
       "    <tr>\n",
       "      <th>3</th>\n",
       "      <td>Lasso</td>\n",
       "      <td>0.7741950</td>\n",
       "      <td>7.5813122</td>\n",
       "      <td>0.7884693</td>\n",
       "      <td>0.7741950</td>\n",
       "    </tr>\n",
       "    <tr>\n",
       "      <th>0</th>\n",
       "      <td>Polinomio 1° grau</td>\n",
       "      <td>0.8045347</td>\n",
       "      <td>7.0536265</td>\n",
       "      <td>0.8126429</td>\n",
       "      <td>0.8045347</td>\n",
       "    </tr>\n",
       "    <tr>\n",
       "      <th>1</th>\n",
       "      <td>Polinomio 2° grau</td>\n",
       "      <td>0.8545316</td>\n",
       "      <td>6.0850193</td>\n",
       "      <td>0.8844317</td>\n",
       "      <td>0.8545316</td>\n",
       "    </tr>\n",
       "    <tr>\n",
       "      <th>2</th>\n",
       "      <td>Polinomio 3° grau</td>\n",
       "      <td>0.8646840</td>\n",
       "      <td>5.8688388</td>\n",
       "      <td>0.9484564</td>\n",
       "      <td>0.8646840</td>\n",
       "    </tr>\n",
       "    <tr>\n",
       "      <th>3</th>\n",
       "      <td>Polinomio 4° grau</td>\n",
       "      <td>-74.5252993</td>\n",
       "      <td>138.6512539</td>\n",
       "      <td>0.9914714</td>\n",
       "      <td>-74.5252993</td>\n",
       "    </tr>\n",
       "    <tr>\n",
       "      <th>4</th>\n",
       "      <td>Polinomio 5° grau</td>\n",
       "      <td>-180906476761501440.0000000</td>\n",
       "      <td>6785855879.2165422</td>\n",
       "      <td>0.9949591</td>\n",
       "      <td>-180906476761501440.0000000</td>\n",
       "    </tr>\n",
       "    <tr>\n",
       "      <th>10</th>\n",
       "      <td>KNeighborsRegressor4</td>\n",
       "      <td>0.8113088</td>\n",
       "      <td>6.9303209</td>\n",
       "      <td>0.9137933</td>\n",
       "      <td>0.8113088</td>\n",
       "    </tr>\n",
       "    <tr>\n",
       "      <th>11</th>\n",
       "      <td>SVR</td>\n",
       "      <td>0.8054043</td>\n",
       "      <td>7.0379171</td>\n",
       "      <td>0.8109066</td>\n",
       "      <td>0.8054043</td>\n",
       "    </tr>\n",
       "    <tr>\n",
       "      <th>12</th>\n",
       "      <td>DecisionTreeRegressor</td>\n",
       "      <td>0.8804125</td>\n",
       "      <td>5.5172215</td>\n",
       "      <td>0.9955928</td>\n",
       "      <td>0.8804125</td>\n",
       "    </tr>\n",
       "    <tr>\n",
       "      <th>13</th>\n",
       "      <td>RandomForestRegressor</td>\n",
       "      <td>0.8958137</td>\n",
       "      <td>5.1497122</td>\n",
       "      <td>0.9826377</td>\n",
       "      <td>0.8958137</td>\n",
       "    </tr>\n",
       "    <tr>\n",
       "      <th>14</th>\n",
       "      <td>BaggingRegressor</td>\n",
       "      <td>0.8779506</td>\n",
       "      <td>5.5737238</td>\n",
       "      <td>0.9764844</td>\n",
       "      <td>0.8779506</td>\n",
       "    </tr>\n",
       "    <tr>\n",
       "      <th>15</th>\n",
       "      <td>ExtraTreesRegressor</td>\n",
       "      <td>0.9014450</td>\n",
       "      <td>5.0086068</td>\n",
       "      <td>0.9955928</td>\n",
       "      <td>0.9014450</td>\n",
       "    </tr>\n",
       "    <tr>\n",
       "      <th>16</th>\n",
       "      <td>AdaBoostRegressor</td>\n",
       "      <td>0.7284971</td>\n",
       "      <td>8.3131344</td>\n",
       "      <td>0.8030549</td>\n",
       "      <td>0.7284971</td>\n",
       "    </tr>\n",
       "    <tr>\n",
       "      <th>17</th>\n",
       "      <td>GradientBoostingRegressor</td>\n",
       "      <td>0.8925801</td>\n",
       "      <td>5.2290146</td>\n",
       "      <td>0.9501477</td>\n",
       "      <td>0.8925801</td>\n",
       "    </tr>\n",
       "    <tr>\n",
       "      <th>18</th>\n",
       "      <td>CatBoostRegressor</td>\n",
       "      <td>0.9038613</td>\n",
       "      <td>4.9468276</td>\n",
       "      <td>0.9601627</td>\n",
       "      <td>0.9038613</td>\n",
       "    </tr>\n",
       "    <tr>\n",
       "      <th>19</th>\n",
       "      <td>XGBRegressor</td>\n",
       "      <td>0.9012885</td>\n",
       "      <td>5.0125815</td>\n",
       "      <td>0.9950111</td>\n",
       "      <td>0.9012885</td>\n",
       "    </tr>\n",
       "  </tbody>\n",
       "</table>\n",
       "</div>"
      ],
      "text/plain": [
       "                       Método                          R²               RMSE  \\\n",
       "1            LinearRegression                   0.7037271          8.6840742   \n",
       "2                       Ridge                   0.8045394          7.0535418   \n",
       "3                       Lasso                   0.7741950          7.5813122   \n",
       "0           Polinomio 1° grau                   0.8045347          7.0536265   \n",
       "1           Polinomio 2° grau                   0.8545316          6.0850193   \n",
       "2           Polinomio 3° grau                   0.8646840          5.8688388   \n",
       "3           Polinomio 4° grau                 -74.5252993        138.6512539   \n",
       "4           Polinomio 5° grau -180906476761501440.0000000 6785855879.2165422   \n",
       "10       KNeighborsRegressor4                   0.8113088          6.9303209   \n",
       "11                        SVR                   0.8054043          7.0379171   \n",
       "12      DecisionTreeRegressor                   0.8804125          5.5172215   \n",
       "13      RandomForestRegressor                   0.8958137          5.1497122   \n",
       "14           BaggingRegressor                   0.8779506          5.5737238   \n",
       "15        ExtraTreesRegressor                   0.9014450          5.0086068   \n",
       "16          AdaBoostRegressor                   0.7284971          8.3131344   \n",
       "17  GradientBoostingRegressor                   0.8925801          5.2290146   \n",
       "18          CatBoostRegressor                   0.9038613          4.9468276   \n",
       "19               XGBRegressor                   0.9012885          5.0125815   \n",
       "\n",
       "    Acurácia Treino              Acurácia Teste  \n",
       "1         0.7266022                   0.7037271  \n",
       "2         0.8126396                   0.8045394  \n",
       "3         0.7884693                   0.7741950  \n",
       "0         0.8126429                   0.8045347  \n",
       "1         0.8844317                   0.8545316  \n",
       "2         0.9484564                   0.8646840  \n",
       "3         0.9914714                 -74.5252993  \n",
       "4         0.9949591 -180906476761501440.0000000  \n",
       "10        0.9137933                   0.8113088  \n",
       "11        0.8109066                   0.8054043  \n",
       "12        0.9955928                   0.8804125  \n",
       "13        0.9826377                   0.8958137  \n",
       "14        0.9764844                   0.8779506  \n",
       "15        0.9955928                   0.9014450  \n",
       "16        0.8030549                   0.7284971  \n",
       "17        0.9501477                   0.8925801  \n",
       "18        0.9601627                   0.9038613  \n",
       "19        0.9950111                   0.9012885  "
      ]
     },
     "execution_count": 41,
     "metadata": {},
     "output_type": "execute_result"
    }
   ],
   "source": [
    "resultsDf"
   ]
  },
  {
   "cell_type": "markdown",
   "id": "cb6cc1d5",
   "metadata": {},
   "source": [
    "### 5.6 Comparando o resto dos modelos com feature selection do lasso"
   ]
  },
  {
   "cell_type": "markdown",
   "id": "b7c100d4",
   "metadata": {},
   "source": [
    "Nessa etapa, vamos selecionar as 5 variáveis mais relevantes seguindo os modelos do tipo ensemble, mostrados acima"
   ]
  },
  {
   "cell_type": "code",
   "execution_count": 42,
   "id": "677d61d9",
   "metadata": {},
   "outputs": [],
   "source": [
    "# Seleciona as top 5 variáveis\n",
    "X_feat = concrete_df[['clinquer', 'escoria', 'cinzas', 'agua', 'superplastificante']]\n",
    "y = concrete_df['resistencia']\n",
    "\n",
    "# Dividindo em treino e teste\n",
    "X_train_feat, X_test_feat, y_train, y_test = train_test_split(X_feat, y, test_size = 0.30, random_state = 1)"
   ]
  },
  {
   "cell_type": "code",
   "execution_count": 43,
   "id": "514c276e",
   "metadata": {},
   "outputs": [
    {
     "name": "stdout",
     "output_type": "stream",
     "text": [
      "Modelo: LinearRegression()\n",
      "--------------------------------------------------------\n",
      "--------------------------------------------------------\n",
      "Modelo: Ridge(random_state=0)\n",
      "--------------------------------------------------------\n",
      "--------------------------------------------------------\n",
      "Modelo: Lasso(random_state=0)\n",
      "--------------------------------------------------------\n",
      "--------------------------------------------------------\n",
      "Modelo: KNeighborsRegressor(n_neighbors=3)\n",
      "--------------------------------------------------------\n",
      "--------------------------------------------------------\n",
      "Modelo: SVR(kernel='linear')\n",
      "--------------------------------------------------------\n",
      "--------------------------------------------------------\n",
      "Modelo: RandomForestRegressor(random_state=0)\n",
      "--------------------------------------------------------\n",
      "--------------------------------------------------------\n",
      "Modelo: BaggingRegressor(random_state=0)\n",
      "--------------------------------------------------------\n",
      "--------------------------------------------------------\n",
      "Modelo: ExtraTreesRegressor(random_state=0)\n",
      "--------------------------------------------------------\n",
      "--------------------------------------------------------\n",
      "Modelo: AdaBoostRegressor(random_state=0)\n",
      "--------------------------------------------------------\n",
      "--------------------------------------------------------\n",
      "Modelo: GradientBoostingRegressor(random_state=0)\n",
      "--------------------------------------------------------\n",
      "--------------------------------------------------------\n",
      "Modelo: <catboost.core.CatBoostRegressor object at 0x00000225F5BCEA30>\n",
      "--------------------------------------------------------\n",
      "--------------------------------------------------------\n",
      "Modelo: XGBRegressor(base_score=None, booster=None, colsample_bylevel=None,\n",
      "             colsample_bynode=None, colsample_bytree=None,\n",
      "             enable_categorical=False, gamma=None, gpu_id=None,\n",
      "             importance_type=None, interaction_constraints=None,\n",
      "             learning_rate=None, max_delta_step=None, max_depth=None,\n",
      "             min_child_weight=None, missing=nan, monotone_constraints=None,\n",
      "             n_estimators=100, n_jobs=None, num_parallel_tree=None,\n",
      "             predictor=None, random_state=None, reg_alpha=None, reg_lambda=None,\n",
      "             scale_pos_weight=None, subsample=None, tree_method=None,\n",
      "             validate_parameters=None, verbosity=None)\n",
      "--------------------------------------------------------\n",
      "--------------------------------------------------------\n"
     ]
    },
    {
     "data": {
      "text/html": [
       "<div>\n",
       "<style scoped>\n",
       "    .dataframe tbody tr th:only-of-type {\n",
       "        vertical-align: middle;\n",
       "    }\n",
       "\n",
       "    .dataframe tbody tr th {\n",
       "        vertical-align: top;\n",
       "    }\n",
       "\n",
       "    .dataframe thead th {\n",
       "        text-align: right;\n",
       "    }\n",
       "</style>\n",
       "<table border=\"1\" class=\"dataframe\">\n",
       "  <thead>\n",
       "    <tr style=\"text-align: right;\">\n",
       "      <th></th>\n",
       "      <th>Método</th>\n",
       "      <th>R²</th>\n",
       "      <th>RMSE</th>\n",
       "      <th>Acurácia Treino</th>\n",
       "      <th>Acurácia Teste</th>\n",
       "    </tr>\n",
       "  </thead>\n",
       "  <tbody>\n",
       "    <tr>\n",
       "      <th>1</th>\n",
       "      <td>LinearRegression</td>\n",
       "      <td>0.3318592</td>\n",
       "      <td>12.4603390</td>\n",
       "      <td>0.4741761</td>\n",
       "      <td>0.3318592</td>\n",
       "    </tr>\n",
       "    <tr>\n",
       "      <th>2</th>\n",
       "      <td>Ridge</td>\n",
       "      <td>0.3321654</td>\n",
       "      <td>12.4574840</td>\n",
       "      <td>0.4741743</td>\n",
       "      <td>0.3321654</td>\n",
       "    </tr>\n",
       "    <tr>\n",
       "      <th>3</th>\n",
       "      <td>Lasso</td>\n",
       "      <td>0.3367107</td>\n",
       "      <td>12.4150186</td>\n",
       "      <td>0.4595824</td>\n",
       "      <td>0.3367107</td>\n",
       "    </tr>\n",
       "    <tr>\n",
       "      <th>4</th>\n",
       "      <td>KNeighborsRegressor</td>\n",
       "      <td>0.2926870</td>\n",
       "      <td>12.8204036</td>\n",
       "      <td>0.6113894</td>\n",
       "      <td>0.2926870</td>\n",
       "    </tr>\n",
       "    <tr>\n",
       "      <th>5</th>\n",
       "      <td>SVR</td>\n",
       "      <td>0.3189083</td>\n",
       "      <td>12.5805227</td>\n",
       "      <td>0.4702323</td>\n",
       "      <td>0.3189083</td>\n",
       "    </tr>\n",
       "    <tr>\n",
       "      <th>6</th>\n",
       "      <td>RandomForestRegressor</td>\n",
       "      <td>0.3132243</td>\n",
       "      <td>12.6329080</td>\n",
       "      <td>0.6804857</td>\n",
       "      <td>0.3132243</td>\n",
       "    </tr>\n",
       "    <tr>\n",
       "      <th>7</th>\n",
       "      <td>BaggingRegressor</td>\n",
       "      <td>0.3088575</td>\n",
       "      <td>12.6730074</td>\n",
       "      <td>0.6690258</td>\n",
       "      <td>0.3088575</td>\n",
       "    </tr>\n",
       "    <tr>\n",
       "      <th>8</th>\n",
       "      <td>ExtraTreesRegressor</td>\n",
       "      <td>0.2590932</td>\n",
       "      <td>13.1213243</td>\n",
       "      <td>0.6884115</td>\n",
       "      <td>0.2590932</td>\n",
       "    </tr>\n",
       "    <tr>\n",
       "      <th>9</th>\n",
       "      <td>AdaBoostRegressor</td>\n",
       "      <td>0.3962449</td>\n",
       "      <td>11.8447608</td>\n",
       "      <td>0.5233322</td>\n",
       "      <td>0.3962449</td>\n",
       "    </tr>\n",
       "    <tr>\n",
       "      <th>10</th>\n",
       "      <td>GradientBoostingRegressor</td>\n",
       "      <td>0.3974072</td>\n",
       "      <td>11.8333535</td>\n",
       "      <td>0.6470921</td>\n",
       "      <td>0.3974072</td>\n",
       "    </tr>\n",
       "    <tr>\n",
       "      <th>11</th>\n",
       "      <td>CatBoostRegressor</td>\n",
       "      <td>0.3511953</td>\n",
       "      <td>12.2787134</td>\n",
       "      <td>0.6778617</td>\n",
       "      <td>0.3511953</td>\n",
       "    </tr>\n",
       "    <tr>\n",
       "      <th>12</th>\n",
       "      <td>XGBRegressor</td>\n",
       "      <td>0.2765102</td>\n",
       "      <td>12.9661811</td>\n",
       "      <td>0.6881877</td>\n",
       "      <td>0.2765102</td>\n",
       "    </tr>\n",
       "  </tbody>\n",
       "</table>\n",
       "</div>"
      ],
      "text/plain": [
       "                       Método        R²       RMSE  Acurácia Treino  \\\n",
       "1            LinearRegression 0.3318592 12.4603390        0.4741761   \n",
       "2                       Ridge 0.3321654 12.4574840        0.4741743   \n",
       "3                       Lasso 0.3367107 12.4150186        0.4595824   \n",
       "4         KNeighborsRegressor 0.2926870 12.8204036        0.6113894   \n",
       "5                         SVR 0.3189083 12.5805227        0.4702323   \n",
       "6       RandomForestRegressor 0.3132243 12.6329080        0.6804857   \n",
       "7            BaggingRegressor 0.3088575 12.6730074        0.6690258   \n",
       "8         ExtraTreesRegressor 0.2590932 13.1213243        0.6884115   \n",
       "9           AdaBoostRegressor 0.3962449 11.8447608        0.5233322   \n",
       "10  GradientBoostingRegressor 0.3974072 11.8333535        0.6470921   \n",
       "11          CatBoostRegressor 0.3511953 12.2787134        0.6778617   \n",
       "12               XGBRegressor 0.2765102 12.9661811        0.6881877   \n",
       "\n",
       "    Acurácia Teste  \n",
       "1        0.3318592  \n",
       "2        0.3321654  \n",
       "3        0.3367107  \n",
       "4        0.2926870  \n",
       "5        0.3189083  \n",
       "6        0.3132243  \n",
       "7        0.3088575  \n",
       "8        0.2590932  \n",
       "9        0.3962449  \n",
       "10       0.3974072  \n",
       "11       0.3511953  \n",
       "12       0.2765102  "
      ]
     },
     "execution_count": 43,
     "metadata": {},
     "output_type": "execute_result"
    }
   ],
   "source": [
    "# Treinando e testando todos os modelos\n",
    "train_test_allmodels(X_train_feat, X_test_feat, y_train, y_test, 'yes')"
   ]
  },
  {
   "cell_type": "markdown",
   "id": "002d8b1e",
   "metadata": {},
   "source": [
    "### 5.7 Otimização do modelo CatBoostRegressor (Ajuste dos hiperparâmetros)"
   ]
  },
  {
   "cell_type": "code",
   "execution_count": 44,
   "id": "650c501a",
   "metadata": {},
   "outputs": [
    {
     "name": "stdout",
     "output_type": "stream",
     "text": [
      "CatBoostRegressor - Least: RMSE 16.904059 using {'depth': 4, 'iterations': 300, 'l2_leaf_reg': 9, 'learning_rate': 0.03}\n",
      "Total duration 421.8248484134674 \n",
      "\n"
     ]
    }
   ],
   "source": [
    "catb_param_grid = {'depth': [4, 7, 10],\n",
    "                  'learning_rate' : [0.03, 0.1, 0.15],\n",
    "                  'l2_leaf_reg': [1,4,9],\n",
    "                  'iterations': [300]}\n",
    "\n",
    "catb_best_estimator = hyperparameterstune_model('CatBoostRegressor', CatBoostRegressor(verbose=False, random_state=0), X_train, y_train, catb_param_grid)"
   ]
  },
  {
   "cell_type": "markdown",
   "id": "900453d7",
   "metadata": {},
   "source": [
    "#### 5.7.1 Testando o modelo com os hiperparâmetros otimizados"
   ]
  },
  {
   "cell_type": "code",
   "execution_count": 45,
   "id": "fbc1435d",
   "metadata": {},
   "outputs": [
    {
     "name": "stdout",
     "output_type": "stream",
     "text": [
      "Modelo: <catboost.core.CatBoostRegressor object at 0x00000225F0AB1DC0>\n",
      "--------------------------------------------------------\n",
      "--------------------------------------------------------\n"
     ]
    },
    {
     "data": {
      "text/html": [
       "<div>\n",
       "<style scoped>\n",
       "    .dataframe tbody tr th:only-of-type {\n",
       "        vertical-align: middle;\n",
       "    }\n",
       "\n",
       "    .dataframe tbody tr th {\n",
       "        vertical-align: top;\n",
       "    }\n",
       "\n",
       "    .dataframe thead th {\n",
       "        text-align: right;\n",
       "    }\n",
       "</style>\n",
       "<table border=\"1\" class=\"dataframe\">\n",
       "  <thead>\n",
       "    <tr style=\"text-align: right;\">\n",
       "      <th></th>\n",
       "      <th>Método</th>\n",
       "      <th>R²</th>\n",
       "      <th>RMSE</th>\n",
       "      <th>Acurácia Treino</th>\n",
       "      <th>Acurácia Teste</th>\n",
       "    </tr>\n",
       "  </thead>\n",
       "  <tbody>\n",
       "    <tr>\n",
       "      <th>20</th>\n",
       "      <td>CatBoostRegressor</td>\n",
       "      <td>-0.3464688</td>\n",
       "      <td>17.6886229</td>\n",
       "      <td>0.6657577</td>\n",
       "      <td>-0.3464688</td>\n",
       "    </tr>\n",
       "  </tbody>\n",
       "</table>\n",
       "</div>"
      ],
      "text/plain": [
       "               Método         R²       RMSE  Acurácia Treino  Acurácia Teste\n",
       "20  CatBoostRegressor -0.3464688 17.6886229        0.6657577      -0.3464688"
      ]
     },
     "execution_count": 45,
     "metadata": {},
     "output_type": "execute_result"
    },
    {
     "data": {
      "image/png": "[encoded data removed]",
      "text/plain": [
       "<Figure size 936x864 with 1 Axes>"
      ]
     },
     "metadata": {
      "needs_background": "light"
     },
     "output_type": "display_data"
    }
   ],
   "source": [
    "#model_otimized = CatBoostRegressor(depth=4,l2_leaf_reg=9,learning_rate=0.03)\n",
    "ensemble_resultsDf_ = train_test_model(CatBoostRegressor(random_state = 0, verbose=False)\n",
    "                                       , 'CatBoostRegressor', X_train, X_test, y_train, y_test, 'feat', 20, 'yes')\n",
    "ensemble_resultsDf_"
   ]
  },
  {
   "cell_type": "code",
   "execution_count": null,
   "id": "e1974ed6",
   "metadata": {},
   "outputs": [],
   "source": []
  }
 ],
 "metadata": {
  "kernelspec": {
   "display_name": "Python 3",
   "language": "python",
   "name": "python3"
  },
  "language_info": {
   "codemirror_mode": {
    "name": "ipython",
    "version": 3
   },
   "file_extension": ".py",
   "mimetype": "text/x-python",
   "name": "python",
   "nbconvert_exporter": "python",
   "pygments_lexer": "ipython3",
   "version": "3.8.8"
  }
 },
 "nbformat": 4,
 "nbformat_minor": 5
}
